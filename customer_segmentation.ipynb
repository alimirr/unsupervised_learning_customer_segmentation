{
 "cells": [
  {
   "cell_type": "markdown",
   "metadata": {},
   "source": [
    "# <font color='navy'>Mac vs. Windows</font>\n",
    "_____________________________________________________\n",
    "# <font color='navy'>Introduction</font>\n",
    "\n",
    "## <font color='steelblue'>Challenge Description </font>\n",
    "\n",
    "\n",
    "The purpose of this analysis is to find  key research-backed insights on consumer buying behavior between Windows and Macbooks."
   ]
  },
  {
   "cell_type": "markdown",
   "metadata": {},
   "source": [
    "## <font color='steelblue'>Importing Libraries </font>"
   ]
  },
  {
   "cell_type": "code",
   "execution_count": 2,
   "metadata": {
    "ExecuteTime": {
     "end_time": "2021-02-23T04:44:08.392259Z",
     "start_time": "2021-02-23T04:43:55.285729Z"
    },
    "code_folding": [
     0
    ]
   },
   "outputs": [],
   "source": [
    "########################################\n",
    "# importing packages\n",
    "########################################\n",
    "import numpy             as np                                 # mathematical essentials\n",
    "import pandas            as pd                                 # data science essentials\n",
    "import matplotlib.pyplot as plt                                # fundamental data visualization\n",
    "import seaborn           as sns                                # enhanced visualization\n",
    "import math \n",
    "from sklearn.preprocessing     import StandardScaler           # standard scaler\n",
    "from sklearn.decomposition     import PCA                      # pca\n",
    "from   scipy.cluster.hierarchy import dendrogram, linkage      # dendrograms\n",
    "from   sklearn.cluster         import KMeans                   # k-means clustering\n",
    "\n",
    "\n",
    "\n",
    "########################################\n",
    "# loading data and setting display options\n",
    "########################################\n",
    "# loading data\n",
    "survey = pd.read_excel('survey_data.xlsx')\n",
    "\n",
    "\n",
    "# setting print options\n",
    "pd.set_option('display.max_rows', 500)\n",
    "pd.set_option('display.max_columns', 500)\n",
    "pd.set_option('display.width', 1000)\n",
    "pd.set_option('display.max_colwidth', 100)"
   ]
  },
  {
   "cell_type": "markdown",
   "metadata": {},
   "source": [
    "## <font color='steelblue'>Data Overview</font>"
   ]
  },
  {
   "cell_type": "code",
   "execution_count": 3,
   "metadata": {
    "ExecuteTime": {
     "end_time": "2021-02-23T04:44:08.414843Z",
     "start_time": "2021-02-23T04:44:08.395412Z"
    },
    "code_folding": [],
    "scrolled": true
   },
   "outputs": [
    {
     "name": "stdout",
     "output_type": "stream",
     "text": [
      "\n",
      "Size of Original Dataset\n",
      "------------------------\n",
      "Observations: 137\n",
      "Features:     79\n",
      "\n"
     ]
    }
   ],
   "source": [
    "# formatting and printing the dimensions of the dataset\n",
    "print(f\"\"\"\n",
    "Size of Original Dataset\n",
    "------------------------\n",
    "Observations: {survey.shape[0]}\n",
    "Features:     {survey.shape[1]}\n",
    "\"\"\")\n",
    "# observations = rows \n",
    "# features = columns = variables"
   ]
  },
  {
   "cell_type": "markdown",
   "metadata": {},
   "source": [
    "The data is made up of the responses of 137 Hult Business School students to 79 survey questions designed to reveal their personality types according to the Big Five personality traits and the Hult DNA.\n",
    "\n",
    "**Big Five Personality Traits**\n",
    "1. Openness \n",
    "2. Conscientiousness \n",
    "3. Extraversion  \n",
    "4. Agreeableness  \n",
    "5. Neuroticism \n",
    "\n",
    "\n",
    "**Hult DNA**\n",
    "1. Thinking\n",
    "2. Communicating\n",
    "3. Team Building "
   ]
  },
  {
   "cell_type": "markdown",
   "metadata": {},
   "source": [
    "## <font color='steelblue'>User-defined Functions</font>"
   ]
  },
  {
   "cell_type": "code",
   "execution_count": 4,
   "metadata": {
    "ExecuteTime": {
     "end_time": "2021-02-23T04:44:08.540679Z",
     "start_time": "2021-02-23T04:44:08.430192Z"
    },
    "code_folding": [
     0
    ]
   },
   "outputs": [],
   "source": [
    "# defining pca_plotter\n",
    "\n",
    "########################################\n",
    "# pca_plotter\n",
    "########################################\n",
    "# optional color scheme\n",
    "colors_lst = [\"#476A2A\", \"#7851B8\", \"#BD3430\", \"#4A2D4E\", \"#875525\",\n",
    "              \"#A83683\", \"#4E655E\", \"#853541\", \"#3A3120\", \"#535D8E\"]\n",
    "\n",
    "\n",
    "# pca_plotter\n",
    "def pca_plotter(bunch,\n",
    "                colors  = None,\n",
    "                x_label = \"First principal component\",\n",
    "                y_label = \"Second principal component\"):\n",
    "    \"\"\"\n",
    "PARAMETERS\n",
    "----------\n",
    "bunch        : Bunch object to be used in PCA\n",
    "colors       : color coding for target labels, default None\n",
    "x_label      : x-label for PC 0, default \"First principal component\"\n",
    "y_label      : y-label for PC 1, default \"Second principal component\"\n",
    "\"\"\"\n",
    "\n",
    "    # INSTANTIATING a PCA object\n",
    "    pca = PCA(n_components = 2,\n",
    "              random_state = 219)\n",
    "\n",
    "\n",
    "    # FITTING and TRANSFORMING the data\n",
    "    dataset_pca = pca.fit_transform(bunch.data)\n",
    "\n",
    "    \n",
    "    # setting figure options\n",
    "    plt.figure(figsize=(10, 10))\n",
    "    plt.xlim(dataset_pca[:, 0].min(), dataset_pca[:, 0].max())\n",
    "    plt.ylim(dataset_pca[:, 1].min(), dataset_pca[:, 1].max())\n",
    "\n",
    "\n",
    "    # data vizualization\n",
    "    for i in range(len(bunch.data)):\n",
    "\n",
    "        plt.text(dataset_pca[i, 0],\n",
    "                 dataset_pca[i, 1],\n",
    "                 str(bunch.target[i]),\n",
    "                 color = colors[bunch.target[i]],\n",
    "                 fontdict={'weight': 'bold', 'size': 9})\n",
    "\n",
    "    plt.xlabel(xlabel = x_label)\n",
    "    plt.ylabel(ylabel = y_label)\n",
    "    plt.show()\n",
    "\n",
    "    \n",
    "########################################\n",
    "# tsne_plotter\n",
    "########################################\n",
    "# optional color scheme\n",
    "colors_lst = [\"#476A2A\", \"#7851B8\", \"#BD3430\", \"#4A2D4E\", \"#875525\",\n",
    "              \"#A83683\", \"#4E655E\", \"#853541\", \"#3A3120\", \"#535D8E\"]\n",
    "\n",
    "\n",
    "# tsne_plotter\n",
    "def tsne_plotter(bunch,\n",
    "                 colors  = None,\n",
    "                 x_label = \"t-SNE feature 0\",\n",
    "                 y_label = \"t-SNE feature 1\"):\n",
    "    \"\"\"\n",
    "PARAMETERS\n",
    "----------\n",
    "bunch        : Bunch object to be used in TSNE\n",
    "colors       : color coding for target labels, default None\n",
    "x_label      : x-label for t-SNE feature 0, default \"t-SNE feature 0\"\n",
    "y_label      : y-label for t-SNE feature 1, default \"t-SNE feature 1\"\n",
    "\"\"\"\n",
    "    \n",
    "    # INSTANTIATING a PCA object\n",
    "    tsne = TSNE(random_state = 219)\n",
    "\n",
    "    \n",
    "    # FITTING and TRANSFORMING the data\n",
    "    dataset_tsne = tsne.fit_transform(bunch.data)\n",
    "\n",
    "    \n",
    "    # setting figure options\n",
    "    plt.figure(figsize=(10, 10))\n",
    "    plt.xlim(dataset_tsne[:, 0].min(), dataset_tsne[:, 0].max() + 1)\n",
    "    plt.ylim(dataset_tsne[:, 1].min(), dataset_tsne[:, 1].max() + 1)\n",
    "\n",
    "    \n",
    "    # data vizualization\n",
    "    for i in range(len(bunch.data)):\n",
    "\n",
    "        plt.text(dataset_tsne[i, 0],\n",
    "                 dataset_tsne[i, 1],\n",
    "                 str(bunch.target[i]),\n",
    "                 color    = colors[bunch.target[i]],\n",
    "                 fontdict = {'weight': 'bold', 'size': 9})\n",
    "\n",
    "    plt.xlabel(xlabel = x_label)\n",
    "    plt.ylabel(ylabel = y_label)\n",
    "    plt.show()"
   ]
  },
  {
   "cell_type": "code",
   "execution_count": 5,
   "metadata": {
    "ExecuteTime": {
     "end_time": "2021-02-23T04:44:08.583492Z",
     "start_time": "2021-02-23T04:44:08.543612Z"
    },
    "code_folding": [
     0
    ]
   },
   "outputs": [],
   "source": [
    "# loading scree-plot and intertia plot \n",
    "\n",
    "########################################\n",
    "# scree_plot\n",
    "########################################\n",
    "def scree_plot(pca_object, export = False):\n",
    "    # building a scree plot\n",
    "\n",
    "    # setting plot size\n",
    "    fig, ax = plt.subplots(figsize=(10, 8))\n",
    "    features = range(pca_object.n_components_)\n",
    "\n",
    "\n",
    "    # developing a scree plot\n",
    "    plt.plot(features,\n",
    "             pca_object.explained_variance_ratio_,\n",
    "             linewidth = 2,\n",
    "             marker = 'o',\n",
    "             markersize = 10,\n",
    "             markeredgecolor = 'black',\n",
    "             markerfacecolor = 'grey')\n",
    "\n",
    "\n",
    "    # setting more plot options\n",
    "    plt.title('Scree Plot')\n",
    "    plt.xlabel('PCA feature')\n",
    "    plt.ylabel('Explained Variance')\n",
    "    plt.xticks(features)\n",
    "\n",
    "    if export == True:\n",
    "    \n",
    "        # exporting the plot\n",
    "        plt.savefig('./analysis_images/scree_plot_1.png')\n",
    "        \n",
    "    # displaying the plot\n",
    "    plt.show()\n",
    "    \n",
    "    \n",
    "    \n",
    "########################################\n",
    "# inertia\n",
    "########################################\n",
    "def interia_plot(data, max_clust = 50):\n",
    "    \"\"\"\n",
    "PARAMETERS\n",
    "----------\n",
    "data      : DataFrame, data from which to build clusters. Dataset should be scaled\n",
    "max_clust : int, maximum of range for how many clusters to check interia, default 50\n",
    "    \"\"\"\n",
    "\n",
    "    ks = range(1, max_clust)\n",
    "    inertias = []\n",
    "\n",
    "\n",
    "    for k in ks:\n",
    "        # INSTANTIATING a kmeans object\n",
    "        model = KMeans(n_clusters = k)\n",
    "\n",
    "\n",
    "        # FITTING to the data\n",
    "        model.fit(data)\n",
    "\n",
    "\n",
    "        # append each inertia to the list of inertias\n",
    "        inertias.append(model.inertia_)\n",
    "\n",
    "\n",
    "\n",
    "    # plotting ks vs inertias\n",
    "    fig, ax = plt.subplots(figsize = (12, 8))\n",
    "    plt.plot(ks, inertias, '-o')\n",
    "\n",
    "\n",
    "    # labeling and displaying the plot\n",
    "    plt.xlabel('number of clusters, k')\n",
    "    plt.ylabel('inertia')\n",
    "    plt.xticks(ks)\n",
    "    plt.show()\n"
   ]
  },
  {
   "cell_type": "code",
   "execution_count": 6,
   "metadata": {
    "ExecuteTime": {
     "end_time": "2021-02-23T04:44:08.929011Z",
     "start_time": "2021-02-23T04:44:08.585775Z"
    },
    "code_folding": [
     0
    ]
   },
   "outputs": [],
   "source": [
    "# defining function to automaticalluy plot distributions for all given columns of a dataset\n",
    "\n",
    "########################################\n",
    "# auto-distribution plot\n",
    "########################################\n",
    "\n",
    "\n",
    "def auto_distribution(\n",
    "        data,  list_cols, color = None):\n",
    "    \"\"\"\n",
    "This function is desiged to plot distributions automatically for all given columns\n",
    "of a dataset.\n",
    "    \n",
    "PARAMETERS\n",
    "----------\n",
    "data      : DataFrame, data from which to plot distributions\n",
    "list_cols : list of columns to plot the distributions of\n",
    "color     : OPTIONAL: default 'b'. Choose colour of distribution\"\"\"\n",
    "    \n",
    "    \n",
    "    fig, axes = plt.subplots(math.ceil(len(list_cols)/2), 2,figsize = (15, math.ceil(len(list_cols)/2)*5+5))\n",
    "    current_plot = 1\n",
    "    fig.suptitle('Distributions', fontsize=25)\n",
    "    \n",
    "    for explanatory in list_cols:\n",
    "        \n",
    "        plt.subplot(math.ceil(len(list_cols)/2), 2, current_plot)\n",
    "        ax = sns.histplot(x    = explanatory,\n",
    "                    data = data)\n",
    "        current_plot = current_plot + 1\n",
    "    plt.show()"
   ]
  },
  {
   "cell_type": "markdown",
   "metadata": {},
   "source": [
    "# <font color='navy'>Data Preparation</font>"
   ]
  },
  {
   "cell_type": "markdown",
   "metadata": {},
   "source": [
    "## <font color='steelblue'>Cleanup</font>"
   ]
  },
  {
   "cell_type": "markdown",
   "metadata": {},
   "source": [
    "We cleaned the data to make the analysis more feasible."
   ]
  },
  {
   "cell_type": "code",
   "execution_count": 7,
   "metadata": {
    "ExecuteTime": {
     "end_time": "2021-02-23T04:44:09.647470Z",
     "start_time": "2021-02-23T04:44:09.240526Z"
    },
    "code_folding": [
     0
    ]
   },
   "outputs": [],
   "source": [
    "##########################\n",
    "# fixing nationality column\n",
    "##########################\n",
    "for x,y in survey.iloc[:, 77].iteritems():\n",
    "    survey.iloc[x,77] = survey.iloc[x,77].lower()\n",
    "    \n",
    "\n",
    "for x,y in survey.iloc[:,77].iteritems():\n",
    "    if y == 'brazil':\n",
    "        survey.iloc[x,77] = 'brazilian'\n",
    "    if y == 'british, indian':\n",
    "        survey.iloc[x,77] = 'british'\n",
    "    if y == 'canada':\n",
    "        survey.iloc[x,77] = 'canadian'\n",
    "    if y == 'china':\n",
    "        survey.iloc[x,77] = 'chinese'\n",
    "    if y == 'colombia':\n",
    "        survey.iloc[x,77] = 'colombian'\n",
    "    if y == 'congolese (dr congo)':\n",
    "        survey.iloc[x,77] = 'congolese'\n",
    "    if y == 'czech republic':\n",
    "        survey.iloc[x,77] = 'czech'\n",
    "    if y == 'dominican ':\n",
    "        survey.iloc[x,77] = 'dominican'\n",
    "    if y == 'indian.':\n",
    "        survey.iloc[x,77] = 'indian'\n",
    "    if y == 'indonesia':\n",
    "        survey.iloc[x,77] = 'indonesian'\n",
    "    if y == 'italian and spanish':\n",
    "        survey.iloc[x,77] = 'italian' # because why not\n",
    "    if y == 'nigeria':\n",
    "        survey.iloc[x,77] = 'nigerian'\n",
    "    if y == 'korea' or y == 'republic of korea' or y == 'south korea':\n",
    "        survey.iloc[x,77] = 'korean'\n",
    "    if y == 'russia':\n",
    "        survey.iloc[x,77] = 'russian'\n",
    "    if y == 'spain':\n",
    "        survey.iloc[x,77] = 'spanish'\n",
    "    if y == 'usa':\n",
    "        survey.iloc[x,77] = 'american'\n",
    "    if y == 'germany' or y == 'german/american':\n",
    "        survey.iloc[x,77] = 'american'\n",
    "    if y == 'peru':\n",
    "        survey.iloc[x,77] = 'peruvian'\n",
    "    if y == 'ecuador':\n",
    "        survey.iloc[x,77] = 'ecuadorian'\n",
    "    if y == 'philippines':\n",
    "        survey.iloc[x,77] = 'filipino '\n",
    "        "
   ]
  },
  {
   "cell_type": "code",
   "execution_count": 52,
   "metadata": {
    "code_folding": [
     0
    ]
   },
   "outputs": [
    {
     "data": {
      "text/plain": [
       "0"
      ]
     },
     "execution_count": 52,
     "metadata": {},
     "output_type": "execute_result"
    }
   ],
   "source": [
    "# Checking null values\n",
    "survey.isna().any().sum()"
   ]
  },
  {
   "cell_type": "code",
   "execution_count": 8,
   "metadata": {
    "ExecuteTime": {
     "end_time": "2021-02-23T04:44:09.674786Z",
     "start_time": "2021-02-23T04:44:09.661604Z"
    },
    "code_folding": []
   },
   "outputs": [],
   "source": [
    "#####################################\n",
    "# separating numeric/personal columns\n",
    "#####################################\n",
    "\n",
    "\n",
    "numeric_survey = survey.iloc[:,1:-7]             # Subset Numerical columns dataframe for future use\n",
    "personal_details_survey = survey.iloc[:,-7:79]   # Subset Personal columns dataframe for future use\n",
    "\n"
   ]
  },
  {
   "cell_type": "code",
   "execution_count": 9,
   "metadata": {
    "ExecuteTime": {
     "end_time": "2021-02-23T04:44:09.717277Z",
     "start_time": "2021-02-23T04:44:09.688289Z"
    },
    "code_folding": []
   },
   "outputs": [],
   "source": [
    "#############################################################\n",
    "# Removing repeat columns/refutable rows and adjusting respective dataframes\n",
    "#############################################################\n",
    "\n",
    "columns_to_remove = [\n",
    "    \"Take initiative even when circumstances, objectives, or rules aren't clear.1\",\n",
    "    \"Encourage direct and open discussions.1\",\n",
    "    \"Respond effectively to multiple priorities.1\"]\n",
    "\n",
    "survey = survey.drop(columns= columns_to_remove) # removing columns\n",
    "numeric_survey = numeric_survey.drop(columns = columns_to_remove)\n",
    "\n",
    "numeric_survey = numeric_survey.drop(index= [59,110])  # dropping seemingly bogus data\n",
    "survey = survey.drop(index = [59,110])\n",
    "\n",
    "# Adjusting the index after removing the rows so it doesn;t have gaps\n",
    "\n",
    "index = [ 0,   1,   2,   3,   4,   5,   6,   7,   8,   9,  10,  11,  12,\n",
    "        13,  14,  15,  16,  17,  18,  19,  20,  21,  22,  23,  24,  25,\n",
    "        26,  27,  28,  29,  30,  31,  32,  33,  34,  35,  36,  37,  38,\n",
    "        39,  40,  41,  42,  43,  44,  45,  46,  47,  48,  49,  50,  51,\n",
    "        52,  53,  54,  55,  56,  57,  58,  59,  60,  61,  62,  63,  64,\n",
    "        65,  66,  67,  68,  69,  70,  71,  72,  73,  74,  75,  76,  77,\n",
    "        78,  79,  80,  81,  82,  83,  84,  85,  86,  87,  88,  89,  90,\n",
    "        91,  92,  93,  94,  95,  96,  97,  98,  99, 100, 101, 102, 103,\n",
    "       104, 105, 106, 107, 108, 109, 110, 111, 112, 113, 114, 115, 116,\n",
    "       117, 118, 119, 120, 121, 122, 123, 124, 125, 126, 127, 128, 129,\n",
    "       130, 131, 132, 133, 134]\n",
    "\n",
    "survey = survey.set_index(pd.Index(index))"
   ]
  },
  {
   "cell_type": "markdown",
   "metadata": {},
   "source": [
    "## <font color='steelblue'>Grouping</font>"
   ]
  },
  {
   "cell_type": "markdown",
   "metadata": {},
   "source": [
    "We assigned continents to the respective countries to condense the data further and allow for better visualization. Next, we grouped the age feature into smaller categories."
   ]
  },
  {
   "cell_type": "markdown",
   "metadata": {},
   "source": [
    "### <font color='steelblue'>Nationality and Age</font>"
   ]
  },
  {
   "cell_type": "code",
   "execution_count": 10,
   "metadata": {
    "ExecuteTime": {
     "end_time": "2021-02-23T04:44:09.974504Z",
     "start_time": "2021-02-23T04:44:09.722576Z"
    },
    "code_folding": [
     6
    ]
   },
   "outputs": [],
   "source": [
    "#############################################################\n",
    "# Grouping Nationalities by continent for better visualisation\n",
    "#############################################################\n",
    "\n",
    "survey['continent'] = 0\n",
    "\n",
    "for index,y in survey.iterrows():\n",
    "    if survey.loc[index, 'What is your nationality? '] == 'indian':\n",
    "        survey.loc[index, 'continent'] = 'asia'\n",
    "    if survey.loc[index, 'What is your nationality? '] == 'chinese':\n",
    "        survey.loc[index, 'continent'] = 'asia'\n",
    "    if survey.loc[index, 'What is your nationality? '] == 'japan':\n",
    "        survey.loc[index, 'continent'] = 'asia'\n",
    "    if survey.loc[index, 'What is your nationality? '] == 'filipino ':\n",
    "        survey.loc[index, 'continent'] = 'asia'\n",
    "    if survey.loc[index, 'What is your nationality? '] == 'philippines':\n",
    "        survey.loc[index, 'continent'] = 'asia'\n",
    "    if survey.loc[index, 'What is your nationality? '] == 'indonesian':\n",
    "        survey.loc[index, 'continent'] = 'asia'\n",
    "    if survey.loc[index, 'What is your nationality? '] == 'thai':\n",
    "        survey.loc[index, 'continent'] = 'asia'\n",
    "    if survey.loc[index, 'What is your nationality? '] == 'vietnamese':\n",
    "        survey.loc[index, 'continent'] = 'asia'\n",
    "    if survey.loc[index, 'What is your nationality? '] == 'korean':\n",
    "        survey.loc[index, 'continent'] = 'asia'\n",
    "    if survey.loc[index, 'What is your nationality? '] == 'taiwan':\n",
    "        survey.loc[index, 'continent'] = 'asia'\n",
    "    if survey.loc[index, 'What is your nationality? '] == 'kyrgyz':\n",
    "        survey.loc[index, 'continent'] = 'asia'\n",
    "    if survey.loc[index, 'What is your nationality? '] == 'turkish':\n",
    "        survey.loc[index, 'continent'] = 'asia'\n",
    "    if survey.loc[index, 'What is your nationality? '] == 'pakistani':\n",
    "        survey.loc[index, 'continent'] = 'asia'\n",
    "    if survey.loc[index, 'What is your nationality? '] == 'russian':\n",
    "        survey.loc[index, 'continent'] = 'asia'\n",
    "    if survey.loc[index, 'What is your nationality? '] == 'ecuadorian':\n",
    "        survey.loc[index, 'continent'] = 'south america' \n",
    "    if survey.loc[index, 'What is your nationality? '] == 'brazilian':\n",
    "        survey.loc[index, 'continent'] = 'south america'\n",
    "    if survey.loc[index, 'What is your nationality? '] == 'dominican':\n",
    "        survey.loc[index, 'continent'] = 'south america'\n",
    "    if survey.loc[index, 'What is your nationality? '] == 'peruvian':\n",
    "        survey.loc[index, 'continent'] = 'south america'\n",
    "    if survey.loc[index, 'What is your nationality? '] == 'costarrican':\n",
    "        survey.loc[index, 'continent'] = 'south america'\n",
    "    if survey.loc[index, 'What is your nationality? '] == 'mexican':\n",
    "        survey.loc[index, 'continent'] = 'south america'\n",
    "    if survey.loc[index, 'What is your nationality? '] == 'colombian':\n",
    "        survey.loc[index, 'continent'] = 'south america'\n",
    "    if survey.loc[index, 'What is your nationality? '] == 'venezuelan':\n",
    "        survey.loc[index, 'continent'] = 'south america'\n",
    "    if survey.loc[index, 'What is your nationality? '] == 'panama':\n",
    "        survey.loc[index, 'continent'] = 'south america'\n",
    "    if survey.loc[index, 'What is your nationality? '] == 'canadian':\n",
    "        survey.loc[index, 'continent'] = 'north america'\n",
    "    if survey.loc[index, 'What is your nationality? '] == 'american':\n",
    "        survey.loc[index, 'continent'] = 'north america'\n",
    "    if survey.loc[index, 'What is your nationality? '] == 'british':\n",
    "        survey.loc[index, 'continent'] = 'europe'\n",
    "    if survey.loc[index, 'What is your nationality? '] == 'czech':\n",
    "        survey.loc[index, 'continent'] = 'europe'\n",
    "    if survey.loc[index, 'What is your nationality? '] == 'italian':\n",
    "        survey.loc[index, 'continent'] = 'europe'\n",
    "    if survey.loc[index, 'What is your nationality? '] == 'spanish':\n",
    "        survey.loc[index, 'continent'] = 'europe'\n",
    "    if survey.loc[index, 'What is your nationality? '] == 'ukrainian':\n",
    "        survey.loc[index, 'continent'] = 'europe'\n",
    "    if survey.loc[index, 'What is your nationality? '] == 'swiss':\n",
    "        survey.loc[index, 'continent'] = 'europe'\n",
    "    if survey.loc[index, 'What is your nationality? '] == 'german':\n",
    "        survey.loc[index, 'continent'] = 'europe'\n",
    "    if survey.loc[index, 'What is your nationality? '] == 'belgian ':\n",
    "        survey.loc[index, 'continent'] = 'europe'\n",
    "    if survey.loc[index, 'What is your nationality? '] == 'portuguese':\n",
    "        survey.loc[index, 'continent'] = 'europe'\n",
    "    if survey.loc[index, 'What is your nationality? '] == 'norwegian':\n",
    "        survey.loc[index, 'continent'] = 'europe'\n",
    "    if survey.loc[index, 'What is your nationality? '] == 'belarus':\n",
    "        survey.loc[index, 'continent'] = 'europe'\n",
    "    if survey.loc[index, 'What is your nationality? '] == 'congolese':\n",
    "        survey.loc[index, 'continent'] = 'africa'\n",
    "    if survey.loc[index, 'What is your nationality? '] == 'nigerian':\n",
    "        survey.loc[index, 'continent'] = 'africa'\n",
    "    if survey.loc[index, 'What is your nationality? '] == 'ugandan':\n",
    "        survey.loc[index, 'continent'] = 'africa'\n",
    "    if survey.loc[index, 'What is your nationality? '] == 'mauritius':\n",
    "        survey.loc[index, 'continent'] = 'africa'\n",
    "    if survey.loc[index, 'What is your nationality? '] == 'kenyan':\n",
    "        survey.loc[index, 'continent'] = 'africa'\n",
    "    if survey.loc[index, 'What is your nationality? '] == 'ghanaian':\n",
    "        survey.loc[index, 'continent'] = 'africa'\n",
    "    if survey.loc[index, 'What is your nationality? '] == 'prefer not to answer':\n",
    "        survey.loc[index, 'continent'] = 'unknown'"
   ]
  },
  {
   "cell_type": "code",
   "execution_count": 11,
   "metadata": {
    "ExecuteTime": {
     "end_time": "2021-02-23T04:44:10.146259Z",
     "start_time": "2021-02-23T04:44:09.977358Z"
    }
   },
   "outputs": [],
   "source": [
    "#############################################################\n",
    "# Grouping age for better visualisation\n",
    "#############################################################\n",
    "        \n",
    "survey[\"Generation\"] = 0\n",
    "for index,y in survey.iterrows():\n",
    "    if (survey.loc[index, 'What is your age?'] >= 21 and \n",
    "            survey.loc[index, 'What is your age?'] <= 25):\n",
    "            survey.loc[index, 'Generation'] = 'Gen Z'\n",
    "\n",
    "    elif (survey.loc[index, 'What is your age?'] >= 26 and \n",
    "            survey.loc[index, 'What is your age?'] <= 40):\n",
    "            survey.loc[index, 'Generation'] = 'Millennial'\n",
    "    else:    \n",
    "        survey.loc[index, 'Generation'] = 'Other'"
   ]
  },
  {
   "cell_type": "markdown",
   "metadata": {},
   "source": [
    "### <font color='steelblue'>Big-Five</font>"
   ]
  },
  {
   "cell_type": "code",
   "execution_count": 12,
   "metadata": {
    "ExecuteTime": {
     "end_time": "2021-02-23T04:44:10.179420Z",
     "start_time": "2021-02-23T04:44:10.152786Z"
    },
    "code_folding": []
   },
   "outputs": [],
   "source": [
    "# #####################################\n",
    "# The Big-Five columns are being split into their respective categories. \n",
    "# For example, the question \"Have a vivid imagination\" falls into \n",
    "# the Openness category of the Big-Five. \n",
    "# Secondly, we have opposite columns that we called 'lo_'. \n",
    "# These columns ask about one of the traits but with a negative connotation. \n",
    "# For example, a lower score \"Have difficulty understanding abstract ideas\" \n",
    "# would translate to a high score for Openness.\n",
    "# #####################################\n",
    "\n",
    "# column numbers for high openness  \n",
    "o_columns = [ \n",
    "                'Have a rich vocabulary',\n",
    "                'Have a vivid imagination',\n",
    "                'Have excellent ideas',\n",
    "                'Am quick to understand things',\n",
    "                'Use difficult words',\n",
    "                'Spend time reflecting on things',\n",
    "                'Am full of ideas'\n",
    "] \n",
    "\n",
    "\n",
    "\n",
    "# column numbers for high conscientiousness  \n",
    "c_columns = [ \n",
    "                'Am always prepared',\n",
    "                'Pay attention to details',\n",
    "                'Get chores done right away',\n",
    "                'Like order',\n",
    "                'Follow a schedule',\n",
    "                'Am exacting in my work'\n",
    "] \n",
    "\n",
    "\n",
    "\n",
    "# column numbers for high extraversion \n",
    "e_columns =  [\n",
    "                'Am the life of the party',\n",
    "                'Feel comfortable around people',\n",
    "                'Start conversations',\n",
    "                'Talk to a lot of different people at parties',\n",
    "                \"Don't mind being the center of attention\"\n",
    "]\n",
    "\n",
    "\n",
    "\n",
    "# column numbers for high agreableness  \n",
    "a_columns = [ \n",
    "                'Am interested in people',\n",
    "                \"Sympathize with others' feelings\",\n",
    "                'Have a soft heart',\n",
    "                'Take time out for others',\n",
    "                \"Feel others' emotions\",\n",
    "                'Make people feel at ease'\n",
    "]\n",
    "\n",
    "\n",
    "\n",
    "# column numbers for high neuroticism  \n",
    "n_columns = [ \n",
    "                'Get stressed out easily',\n",
    "                'Worry about things',\n",
    "                'Am easily disturbed',\n",
    "                'Get upset easily',\n",
    "                'Change my mood a lot',\n",
    "                'Have frequent mood swings',\n",
    "                'Get irritated easily',\n",
    "                'Often feel blue'\n",
    "]\n",
    "\n",
    "\n",
    "# column numbers for low openness  \n",
    "l_o_columns = [ \n",
    "                \"Have difficulty understanding abstract ideas\",\n",
    "                \"Am not interested in abstract ideas\",\n",
    "                \"Do not have a good imagination\"\n",
    "]\n",
    "# column numbers for low conscientiousness  \n",
    "l_c_columns = [ \n",
    "                \"Leave my belongings around\",\n",
    "                \"Make a mess of things\",\n",
    "                \"Often forget to put things back in their proper place\",\n",
    "                \"Shirk my duties\"\n",
    "] \n",
    "# column numbers for low extraversion \n",
    "l_e_columns =  [\n",
    "                \"Don't talk a lot\",\n",
    "                \"Have little to say\",\n",
    "                \"Keep in the background\",\n",
    "                \"Don't like to draw attention to myself\",\n",
    "                \"Am quiet around strangers\"\n",
    "]\n",
    "# column numbers for low agreableness  \n",
    "l_a_columns = [ \n",
    "                \"Feel little concern for others\",\n",
    "                \"Insult people\",\n",
    "                \"Am not interested in other people's problems\",\n",
    "                \"Am not really interested in others\"\n",
    "]\n",
    "# column numbers for low neuroticism  \n",
    "l_n_columns = [ \n",
    "                \"Am relaxed most of the time\",\n",
    "                \"Seldom feel blue\"\n",
    "]\n",
    "\n"
   ]
  },
  {
   "cell_type": "markdown",
   "metadata": {},
   "source": [
    "### <font color='steelblue'>Hult DNA</font>"
   ]
  },
  {
   "cell_type": "code",
   "execution_count": 13,
   "metadata": {
    "ExecuteTime": {
     "end_time": "2021-02-23T04:44:10.207170Z",
     "start_time": "2021-02-23T04:44:10.190384Z"
    },
    "code_folding": [
     0
    ]
   },
   "outputs": [],
   "source": [
    "#####################################\n",
    "# Same as above but with respect to the Hult DNA columns\n",
    "#####################################\n",
    "\n",
    "# column numbers for high thinking  \n",
    "h_th_columns = [51, 53, 54, 55, 56]\n",
    "\n",
    "# column numbers for low thinking  \n",
    "l_th_columns = [52]\n",
    "\n",
    "# column numbers for high commmunicating   \n",
    "h_co_columns = [57, 58, 62, 64, 66]\n",
    "\n",
    "# column numbers for low commmunicating   \n",
    "l_co_columns = [59]\n",
    "\n",
    "# column numbers for high team-building  \n",
    "h_tb_columns = [60, 61, 65, 67, 68 ]\n",
    "\n",
    "# column numbers for low team-building  \n",
    "l_tb_columns = [63]\n",
    "\n",
    "\n",
    "# making seperate dataframe for the newly made columns for ease of access\n",
    "\n",
    "h_thinking = survey.iloc[:,h_th_columns]\n",
    "l_thinking = survey.iloc[:,l_th_columns]\n",
    "h_communicating = survey.iloc[:,h_co_columns]\n",
    "l_communicating = survey.iloc[:,l_co_columns]\n",
    "h_team_building = survey.iloc[:,h_tb_columns]\n",
    "l_team_building = survey.iloc[:,l_tb_columns]\n"
   ]
  },
  {
   "cell_type": "markdown",
   "metadata": {},
   "source": [
    "## <font color='steelblue'>Group Cleanup</font>"
   ]
  },
  {
   "cell_type": "code",
   "execution_count": 14,
   "metadata": {
    "ExecuteTime": {
     "end_time": "2021-02-23T04:44:10.725097Z",
     "start_time": "2021-02-23T04:44:10.209976Z"
    },
    "code_folding": []
   },
   "outputs": [],
   "source": [
    "#########################\n",
    "# Hult DNA\n",
    "#########################\n",
    "\n",
    "# #########################\n",
    "# Here we swap the rating for the opposite columns in each category, \n",
    "# e.g., a 5 in the \"Don't generate ideas that are new and different\" \n",
    "# would translate to a 1 in the new feature column \"generate ideas that are new and different\". \n",
    "# This is done so all columns can be clumped together for analysis.\n",
    "#########################\n",
    "\n",
    "#####################################\n",
    "# Reversing the ratings of lo columns for coherent use with \n",
    "# hi columns \n",
    "#####################################\n",
    "\n",
    "survey['generate ideas that are new and different'] = 0\n",
    "for index, y in survey.iterrows():\n",
    "    if survey.loc[index,\"Don't  generate ideas that are new and different\"] == 5:\n",
    "        survey.loc[index,\"generate ideas that are new and different\"] = 1\n",
    "        \n",
    "    if survey.loc[index,\"Don't  generate ideas that are new and different\"] == 4:\n",
    "        survey.loc[index,\"generate ideas that are new and different\"] = 2\n",
    "        \n",
    "    if survey.loc[index,\"Don't  generate ideas that are new and different\"] == 2:\n",
    "        survey.loc[index,\"generate ideas that are new and different\"] = 4\n",
    "        \n",
    "    if survey.loc[index,\"Don't  generate ideas that are new and different\"] == 1:\n",
    "        survey.loc[index,\"generate ideas that are new and different\"] = 5\n",
    "        \n",
    "    if survey.loc[index,\"Don't  generate ideas that are new and different\"] == 3:\n",
    "        survey.loc[index,\"generate ideas that are new and different\"] = 3\n",
    "\n",
    "survey['persuasively sell a vision or idea'] = 0\n",
    "for index, y in survey.iterrows():\n",
    "    if survey.loc[index,\"Don't persuasively sell a vision or idea\"] == 5:\n",
    "        survey.loc[index,\"persuasively sell a vision or idea\"] = 1\n",
    "        \n",
    "    if survey.loc[index,\"Don't persuasively sell a vision or idea\"] == 4:\n",
    "        survey.loc[index,\"persuasively sell a vision or idea\"] = 2\n",
    "        \n",
    "    if survey.loc[index,\"Don't persuasively sell a vision or idea\"] == 2:\n",
    "        survey.loc[index,\"persuasively sell a vision or idea\"] = 4\n",
    "        \n",
    "    if survey.loc[index,\"Don't persuasively sell a vision or idea\"] == 1:\n",
    "        survey.loc[index,\"persuasively sell a vision or idea\"] = 5\n",
    "        \n",
    "    if survey.loc[index,\"Don't persuasively sell a vision or idea\"] == 3:\n",
    "        survey.loc[index,\"persuasively sell a vision or idea\"] = 3\n",
    "        \n",
    "survey['Can rally people on the team around a common goal'] = 0\n",
    "for index, y in survey.iterrows():\n",
    "    if survey.loc[index,\"Can't rally people on the team around a common goal\"] == 5:\n",
    "        survey.loc[index,\"Can rally people on the team around a common goal\"] = 1\n",
    "        \n",
    "    if survey.loc[index,\"Can't rally people on the team around a common goal\"] == 4:\n",
    "        survey.loc[index,\"Can rally people on the team around a common goal\"] = 2\n",
    "        \n",
    "    if survey.loc[index,\"Can't rally people on the team around a common goal\"] == 2:\n",
    "        survey.loc[index,\"Can rally people on the team around a common goal\"] = 4\n",
    "        \n",
    "    if survey.loc[index,\"Can't rally people on the team around a common goal\"] == 1:\n",
    "        survey.loc[index,\"Can rally people on the team around a common goal\"] = 5\n",
    "        \n",
    "    if survey.loc[index,\"Can't rally people on the team around a common goal\"] == 3:\n",
    "        survey.loc[index,\"Can rally people on the team around a common goal\"] = 3\n",
    "          \n",
    "\n",
    "#  Final columns for high thinking  \n",
    "th_columns = [ \n",
    "                \"See underlying patterns in complex situations\",\n",
    "                \"Demonstrate an awareness of personal strengths and limitations\",\n",
    "                \"Display a growth mindset\",\n",
    "                \"Respond effectively to multiple priorities\",\n",
    "                \"Take initiative even when circumstances, objectives, or rules aren't clear\",\n",
    "                \"generate ideas that are new and different\"\n",
    "]\n",
    "\n",
    "\n",
    "# column numbers for high commmunicating   \n",
    "co_columns = [  \n",
    "                \"Encourage direct and open discussions\",\n",
    "                \"Listen carefully to others\",\n",
    "                \"Effectively negotiate interests, resources, and roles\",\n",
    "                \"Translate ideas into plans that are organized and realistic\",\n",
    "                \"Seek and use feedback from teammates\",\n",
    "                \"persuasively sell a vision or idea\"\n",
    "]\n",
    "\n",
    "# column numbers for high team-building  \n",
    "tb_columns = [  \n",
    "                \"Build cooperative relationships\",\n",
    "                \"Work well with people from diverse cultural backgrounds\",\n",
    "                \"Resolve conflicts constructively\",\n",
    "                \"Coach teammates for performance and growth\",\n",
    "                \"Drive for results\",\n",
    "                \"Can rally people on the team around a common goal\"\n",
    "]\n",
    "\n",
    "\n"
   ]
  },
  {
   "cell_type": "code",
   "execution_count": 15,
   "metadata": {
    "ExecuteTime": {
     "end_time": "2021-02-23T04:44:13.647175Z",
     "start_time": "2021-02-23T04:44:10.736376Z"
    },
    "code_folding": [
     0
    ]
   },
   "outputs": [],
   "source": [
    "#########################\n",
    "# BIG 5\n",
    "#########################\n",
    "\n",
    "#####################################\n",
    "# Reversing the ratings of lo columns for coherent use with \n",
    "# hi columns \n",
    "#####################################\n",
    "\n",
    "for x in l_o_columns:\n",
    "    survey[\"opp_\" + x] = 0\n",
    "    o_columns.append(\"opp_\" + x)\n",
    "    for index, y in survey.iterrows():\n",
    "        if survey.loc[index,x] == 5:\n",
    "            survey.loc[index,\"opp_\" + x] = 1\n",
    "        if survey.loc[index,x] == 4:\n",
    "            survey.loc[index,\"opp_\" + x] = 2\n",
    "        if survey.loc[index,x] == 2:\n",
    "            survey.loc[index,\"opp_\" + x] = 4\n",
    "        if survey.loc[index,x] == 1:\n",
    "            survey.loc[index,\"opp_\" + x] = 5\n",
    "        if survey.loc[index,x] == 3:\n",
    "            survey.loc[index,\"opp_\" + x] = 3\n",
    "for x in l_c_columns:\n",
    "    survey[\"opp_\" + x] = 0\n",
    "    c_columns.append(\"opp_\" + x)\n",
    "    for index, y in survey.iterrows():\n",
    "        if survey.loc[index,x] == 5:\n",
    "            survey.loc[index,\"opp_\" + x] = 1\n",
    "        if survey.loc[index,x] == 4:\n",
    "            survey.loc[index,\"opp_\" + x] = 2\n",
    "        if survey.loc[index,x] == 2:\n",
    "            survey.loc[index,\"opp_\" + x] = 4\n",
    "        if survey.loc[index,x] == 1:\n",
    "            survey.loc[index,\"opp_\" + x] = 5\n",
    "        if survey.loc[index,x] == 3:\n",
    "            survey.loc[index,\"opp_\" + x] = 3\n",
    "for x in l_e_columns:\n",
    "    survey[\"opp_\" + x] = 0\n",
    "    e_columns.append(\"opp_\" + x)\n",
    "    for index, y in survey.iterrows():\n",
    "        if survey.loc[index,x] == 5:\n",
    "            survey.loc[index,\"opp_\" + x] = 1\n",
    "        if survey.loc[index,x] == 4:\n",
    "            survey.loc[index,\"opp_\" + x] = 2\n",
    "        if survey.loc[index,x] == 2:\n",
    "            survey.loc[index,\"opp_\" + x] = 4\n",
    "        if survey.loc[index,x] == 1:\n",
    "            survey.loc[index,\"opp_\" + x] = 5\n",
    "        if survey.loc[index,x] == 3:\n",
    "            survey.loc[index,\"opp_\" + x] = 3\n",
    "for x in l_a_columns:\n",
    "    survey[\"opp_\" + x] = 0\n",
    "    a_columns.append(\"opp_\" + x)\n",
    "    for index, y in survey.iterrows():\n",
    "        if survey.loc[index,x] == 5:\n",
    "            survey.loc[index,\"opp_\" + x] = 1\n",
    "        if survey.loc[index,x] == 4:\n",
    "            survey.loc[index,\"opp_\" + x] = 2\n",
    "        if survey.loc[index,x] == 2:\n",
    "            survey.loc[index,\"opp_\" + x] = 4\n",
    "        if survey.loc[index,x] == 1:\n",
    "            survey.loc[index,\"opp_\" + x] = 5\n",
    "        if survey.loc[index,x] == 3:\n",
    "            survey.loc[index,\"opp_\" + x] = 3\n",
    "for x in l_n_columns:\n",
    "    survey[\"opp_\" + x] = 0\n",
    "    n_columns.append(\"opp_\" + x)\n",
    "    for index, y in survey.iterrows():\n",
    "        if survey.loc[index,x] == 5:\n",
    "            survey.loc[index,\"opp_\" + x] = 1\n",
    "        if survey.loc[index,x] == 4:\n",
    "            survey.loc[index,\"opp_\" + x] = 2\n",
    "        if survey.loc[index,x] == 2:\n",
    "            survey.loc[index,\"opp_\" + x] = 4\n",
    "        if survey.loc[index,x] == 1:\n",
    "            survey.loc[index,\"opp_\" + x] = 5\n",
    "        if survey.loc[index,x] == 3:\n",
    "            survey.loc[index,\"opp_\" + x] = 3\n",
    "    \n",
    "#####################################\n",
    "# Adding columns to the main dataframe \n",
    "# with the means values of grouped columns\n",
    "# with respect to the Big 5 Traits\n",
    "#####################################\n",
    "\n",
    "\n",
    "survey['openness_rating'] = 0\n",
    "for index, y in survey.iterrows():\n",
    "    survey.loc[index,'openness_rating'] = np.mean(survey.loc[index,o_columns])\n",
    "\n",
    "\n",
    "survey['conscientiousness_rating'] = 0\n",
    "for index, y in survey.iterrows():\n",
    "    survey.loc[index,'conscientiousness_rating'] = np.mean(survey.loc[index,c_columns])\n",
    "\n",
    "survey['extraversion_rating'] = 0\n",
    "for index, y in survey.iterrows():\n",
    "    survey.loc[index,'extraversion_rating'] = np.mean(survey.loc[index,e_columns])\n",
    "\n",
    "survey['agreeableness_rating'] = 0\n",
    "for index, y in survey.iterrows():\n",
    "    survey.loc[index,'agreeableness_rating'] = np.mean(survey.loc[index,a_columns])\n",
    "\n",
    "survey['neuroticism_rating'] = 0\n",
    "for index, y in survey.iterrows():\n",
    "    survey.loc[index,'neuroticism_rating'] = np.mean(survey.loc[index,n_columns])\n",
    "    \n",
    "#####################################\n",
    "# Adding columns to the main dataframe \n",
    "# with the means values of grouped columns\n",
    "# with respect to the Hult DNA \n",
    "#####################################\n",
    "\n",
    "\n",
    "survey['thinking_rating'] = 0\n",
    "for index, y in survey.iterrows():\n",
    "    survey.loc[index,'thinking_rating'] = np.mean(survey.loc[index,th_columns])\n",
    "\n",
    "survey['communicating_rating'] = 0\n",
    "for index, y in survey.iterrows():\n",
    "    survey.loc[index,'communicating_rating'] = np.mean(survey.loc[index,co_columns])\n",
    "\n",
    "survey['team_building_rating'] = 0\n",
    "for index, y in survey.iterrows():\n",
    "    survey.loc[index,'team_building_rating'] = np.mean(survey.loc[index,tb_columns])\n",
    "\n",
    "\n"
   ]
  },
  {
   "cell_type": "code",
   "execution_count": 16,
   "metadata": {
    "ExecuteTime": {
     "end_time": "2021-02-23T04:44:13.665503Z",
     "start_time": "2021-02-23T04:44:13.649905Z"
    }
   },
   "outputs": [],
   "source": [
    "#####################################\n",
    "# giving big 5 mean ratings and Hult DNA\n",
    "# mean ratings their own dataframes for\n",
    "# ease in the PCA/clustering\n",
    "#####################################\n",
    "\n",
    "big_five_mean_survey = survey.loc[:, 'openness_rating':'neuroticism_rating']\n",
    "hult_dna_mean_survey = survey.loc[:, 'thinking_rating':'team_building_rating']\n",
    "\n"
   ]
  },
  {
   "cell_type": "markdown",
   "metadata": {},
   "source": [
    "# <font color='navy'>Exploratory Data Analysis</font>"
   ]
  },
  {
   "cell_type": "markdown",
   "metadata": {},
   "source": [
    "## <font color='navy'>Data Summary</font>"
   ]
  },
  {
   "cell_type": "code",
   "execution_count": 17,
   "metadata": {
    "ExecuteTime": {
     "end_time": "2021-02-23T04:44:13.848860Z",
     "start_time": "2021-02-23T04:44:13.706046Z"
    },
    "code_folding": [
     0
    ]
   },
   "outputs": [
    {
     "data": {
      "text/html": [
       "<div>\n",
       "<style scoped>\n",
       "    .dataframe tbody tr th:only-of-type {\n",
       "        vertical-align: middle;\n",
       "    }\n",
       "\n",
       "    .dataframe tbody tr th {\n",
       "        vertical-align: top;\n",
       "    }\n",
       "\n",
       "    .dataframe thead th {\n",
       "        text-align: right;\n",
       "    }\n",
       "</style>\n",
       "<table border=\"1\" class=\"dataframe\">\n",
       "  <thead>\n",
       "    <tr style=\"text-align: right;\">\n",
       "      <th></th>\n",
       "      <th>count</th>\n",
       "      <th>mean</th>\n",
       "      <th>std</th>\n",
       "      <th>min</th>\n",
       "      <th>25%</th>\n",
       "      <th>50%</th>\n",
       "      <th>75%</th>\n",
       "      <th>max</th>\n",
       "    </tr>\n",
       "  </thead>\n",
       "  <tbody>\n",
       "    <tr>\n",
       "      <th>Insult people</th>\n",
       "      <td>135.0</td>\n",
       "      <td>1.696296</td>\n",
       "      <td>0.940578</td>\n",
       "      <td>1.0</td>\n",
       "      <td>1.0</td>\n",
       "      <td>1.0</td>\n",
       "      <td>2.0</td>\n",
       "      <td>4.0</td>\n",
       "    </tr>\n",
       "    <tr>\n",
       "      <th>Am not interested in abstract ideas</th>\n",
       "      <td>135.0</td>\n",
       "      <td>2.118519</td>\n",
       "      <td>1.037015</td>\n",
       "      <td>1.0</td>\n",
       "      <td>1.0</td>\n",
       "      <td>2.0</td>\n",
       "      <td>3.0</td>\n",
       "      <td>5.0</td>\n",
       "    </tr>\n",
       "    <tr>\n",
       "      <th>Do not have a good imagination</th>\n",
       "      <td>135.0</td>\n",
       "      <td>2.185185</td>\n",
       "      <td>1.134172</td>\n",
       "      <td>1.0</td>\n",
       "      <td>1.0</td>\n",
       "      <td>2.0</td>\n",
       "      <td>3.0</td>\n",
       "      <td>5.0</td>\n",
       "    </tr>\n",
       "    <tr>\n",
       "      <th>Am not really interested in others</th>\n",
       "      <td>135.0</td>\n",
       "      <td>2.288889</td>\n",
       "      <td>1.035682</td>\n",
       "      <td>1.0</td>\n",
       "      <td>2.0</td>\n",
       "      <td>2.0</td>\n",
       "      <td>3.0</td>\n",
       "      <td>5.0</td>\n",
       "    </tr>\n",
       "    <tr>\n",
       "      <th>Shirk my duties</th>\n",
       "      <td>135.0</td>\n",
       "      <td>2.296296</td>\n",
       "      <td>0.977921</td>\n",
       "      <td>1.0</td>\n",
       "      <td>1.5</td>\n",
       "      <td>2.0</td>\n",
       "      <td>3.0</td>\n",
       "      <td>5.0</td>\n",
       "    </tr>\n",
       "  </tbody>\n",
       "</table>\n",
       "</div>"
      ],
      "text/plain": [
       "                                     count      mean       std  min  25%  50%  75%  max\n",
       "Insult people                        135.0  1.696296  0.940578  1.0  1.0  1.0  2.0  4.0\n",
       "Am not interested in abstract ideas  135.0  2.118519  1.037015  1.0  1.0  2.0  3.0  5.0\n",
       "Do not have a good imagination       135.0  2.185185  1.134172  1.0  1.0  2.0  3.0  5.0\n",
       "Am not really interested in others   135.0  2.288889  1.035682  1.0  2.0  2.0  3.0  5.0\n",
       "Shirk my duties                      135.0  2.296296  0.977921  1.0  1.5  2.0  3.0  5.0"
      ]
     },
     "execution_count": 17,
     "metadata": {},
     "output_type": "execute_result"
    }
   ],
   "source": [
    "#####################################\n",
    "# Distribution Analyses - Top 5 means of rating columns\n",
    "#####################################\n",
    "\n",
    "numeric_survey.describe().transpose().sort_values(by = 'mean')[0:5]"
   ]
  },
  {
   "cell_type": "code",
   "execution_count": 18,
   "metadata": {
    "ExecuteTime": {
     "end_time": "2021-02-23T04:44:14.112237Z",
     "start_time": "2021-02-23T04:44:13.852091Z"
    },
    "code_folding": [
     0
    ]
   },
   "outputs": [
    {
     "data": {
      "text/html": [
       "<div>\n",
       "<style scoped>\n",
       "    .dataframe tbody tr th:only-of-type {\n",
       "        vertical-align: middle;\n",
       "    }\n",
       "\n",
       "    .dataframe tbody tr th {\n",
       "        vertical-align: top;\n",
       "    }\n",
       "\n",
       "    .dataframe thead th {\n",
       "        text-align: right;\n",
       "    }\n",
       "</style>\n",
       "<table border=\"1\" class=\"dataframe\">\n",
       "  <thead>\n",
       "    <tr style=\"text-align: right;\">\n",
       "      <th></th>\n",
       "      <th>count</th>\n",
       "      <th>mean</th>\n",
       "      <th>std</th>\n",
       "      <th>min</th>\n",
       "      <th>25%</th>\n",
       "      <th>50%</th>\n",
       "      <th>75%</th>\n",
       "      <th>max</th>\n",
       "    </tr>\n",
       "  </thead>\n",
       "  <tbody>\n",
       "    <tr>\n",
       "      <th>Pay attention to details</th>\n",
       "      <td>135.0</td>\n",
       "      <td>4.133333</td>\n",
       "      <td>0.799253</td>\n",
       "      <td>1.0</td>\n",
       "      <td>4.0</td>\n",
       "      <td>4.0</td>\n",
       "      <td>5.0</td>\n",
       "      <td>5.0</td>\n",
       "    </tr>\n",
       "    <tr>\n",
       "      <th>Build cooperative relationships</th>\n",
       "      <td>135.0</td>\n",
       "      <td>4.155556</td>\n",
       "      <td>0.710966</td>\n",
       "      <td>2.0</td>\n",
       "      <td>4.0</td>\n",
       "      <td>4.0</td>\n",
       "      <td>5.0</td>\n",
       "      <td>5.0</td>\n",
       "    </tr>\n",
       "    <tr>\n",
       "      <th>Display a growth mindset</th>\n",
       "      <td>135.0</td>\n",
       "      <td>4.170370</td>\n",
       "      <td>0.777873</td>\n",
       "      <td>1.0</td>\n",
       "      <td>4.0</td>\n",
       "      <td>4.0</td>\n",
       "      <td>5.0</td>\n",
       "      <td>5.0</td>\n",
       "    </tr>\n",
       "    <tr>\n",
       "      <th>Drive for results</th>\n",
       "      <td>135.0</td>\n",
       "      <td>4.237037</td>\n",
       "      <td>0.764974</td>\n",
       "      <td>1.0</td>\n",
       "      <td>4.0</td>\n",
       "      <td>4.0</td>\n",
       "      <td>5.0</td>\n",
       "      <td>5.0</td>\n",
       "    </tr>\n",
       "    <tr>\n",
       "      <th>Work well with people from diverse cultural backgrounds</th>\n",
       "      <td>135.0</td>\n",
       "      <td>4.259259</td>\n",
       "      <td>0.668736</td>\n",
       "      <td>2.0</td>\n",
       "      <td>4.0</td>\n",
       "      <td>4.0</td>\n",
       "      <td>5.0</td>\n",
       "      <td>5.0</td>\n",
       "    </tr>\n",
       "  </tbody>\n",
       "</table>\n",
       "</div>"
      ],
      "text/plain": [
       "                                                         count      mean       std  min  25%  50%  75%  max\n",
       "Pay attention to details                                 135.0  4.133333  0.799253  1.0  4.0  4.0  5.0  5.0\n",
       "Build cooperative relationships                          135.0  4.155556  0.710966  2.0  4.0  4.0  5.0  5.0\n",
       "Display a growth mindset                                 135.0  4.170370  0.777873  1.0  4.0  4.0  5.0  5.0\n",
       "Drive for results                                        135.0  4.237037  0.764974  1.0  4.0  4.0  5.0  5.0\n",
       "Work well with people from diverse cultural backgrounds  135.0  4.259259  0.668736  2.0  4.0  4.0  5.0  5.0"
      ]
     },
     "execution_count": 18,
     "metadata": {},
     "output_type": "execute_result"
    }
   ],
   "source": [
    "#####################################\n",
    "# Distribution Analyses - Lowest 5 means of rating columns\n",
    "#####################################\n",
    "\n",
    "numeric_survey.describe().transpose().sort_values(by = 'mean')[-5:]"
   ]
  },
  {
   "cell_type": "markdown",
   "metadata": {},
   "source": [
    "The above 2 summaries are sorted by their mean rating for all participants, first ascending, then descending. This gives us some insight into how these people were answering these questions.\n",
    "\n",
    "Outright negative or rude questions have low scores and questions that assess responsibility have higher means. The answers were based on the fact that there is a certain way the participants perceive themselves.\n",
    "\n",
    "\n",
    "*How true that is, is another conversation altogether. For the purpose of this analysis, we assume that the ratings are truthful.*"
   ]
  },
  {
   "cell_type": "markdown",
   "metadata": {},
   "source": [
    "## <font color='steelblue'>Laptop Distribution by Gender</font>"
   ]
  },
  {
   "cell_type": "code",
   "execution_count": 19,
   "metadata": {
    "ExecuteTime": {
     "end_time": "2021-02-23T04:44:14.729536Z",
     "start_time": "2021-02-23T04:44:14.115440Z"
    }
   },
   "outputs": [
    {
     "data": {
      "image/png": "[encoded data removed]",
      "text/plain": [
       "<Figure size 1080x360 with 2 Axes>"
      ]
     },
     "metadata": {
      "needs_background": "light"
     },
     "output_type": "display_data"
    }
   ],
   "source": [
    "fig, axes = plt.subplots(nrows=1, ncols=2, figsize=(15, 5)) # setting the plot sizes\n",
    "\n",
    "# using countplot to create bar charts of current laptop ownership by gender\n",
    "plt.subplot(1,2,1)\n",
    "ax = sns.countplot(x    = 'Gender',\n",
    "                data = survey,\n",
    "                hue  = 'What laptop do you currently have?')\n",
    "ax.set_title(\"Count Plot of Current Laptop Owners by Gender\");       # setting plot title\n",
    "plt.legend(bbox_to_anchor=(1.05, 1), loc=2, borderaxespad=0.)        # moving the legend outside the graph\n",
    "\n",
    "\n",
    "# using countplot to create bar charts of future laptop ownership by gender\n",
    "plt.subplot(1,2,2)                                          # setting plot title\n",
    "\n",
    "ax = sns.countplot(\n",
    "                x    = 'Gender',\n",
    "                data = survey,\n",
    "                hue  = 'What laptop would you buy in next assuming if all laptops cost the same?')\n",
    "ax.set_title(\"Count Plot of Laptop to Buy in the Future by Gender\");\n",
    "plt.legend(bbox_to_anchor=(1.05, 1), loc=2, borderaxespad=0.)\n",
    "\n",
    "fig.tight_layout()"
   ]
  },
  {
   "cell_type": "markdown",
   "metadata": {},
   "source": [
    "Macs are more popular with female Hultians and their preference grows stronger with future purchases. Males currently own more Windows than Macs, but their attitudes shift for future purchases."
   ]
  },
  {
   "cell_type": "markdown",
   "metadata": {},
   "source": [
    "## <font color='steelblue'>Laptop Distribution by Program</font>"
   ]
  },
  {
   "cell_type": "code",
   "execution_count": 20,
   "metadata": {
    "ExecuteTime": {
     "end_time": "2021-02-23T04:44:15.240835Z",
     "start_time": "2021-02-23T04:44:14.731905Z"
    }
   },
   "outputs": [
    {
     "data": {
      "image/png": "[encoded data removed]",
      "text/plain": [
       "<Figure size 1080x576 with 2 Axes>"
      ]
     },
     "metadata": {
      "needs_background": "light"
     },
     "output_type": "display_data"
    }
   ],
   "source": [
    "fig, axes = plt.subplots(nrows=1, ncols=2, figsize=(15, 8)) # Setting the plot sizes \n",
    "\n",
    "plt.subplot(1,2,1)\n",
    "ax = sns.countplot(x    = 'What program are you in?',       # Countplot set up\n",
    "                data = survey,\n",
    "                hue  = 'What laptop do you currently have?')\n",
    "ax.set_title(\"Count Plot of Current Laptop Owners by Degree Type\");  #Setting title\n",
    "plt.legend(bbox_to_anchor=(1.05, 1), loc=2, borderaxespad=0.) # Moving the legend outside the graph\n",
    "plt.xticks(rotation = 90) # Rotating x labels so they dont overlap\n",
    "\n",
    "plt.subplot(1,2,2)\n",
    "\n",
    "ax = sns.countplot(x    = 'What program are you in?',\n",
    "                data = survey,\n",
    "                hue  = 'What laptop would you buy in next assuming if all laptops cost the same?')\n",
    "ax.set_title(\"Count Plot of Laptop to buy in the Future by Degree Type\");\n",
    "plt.legend(bbox_to_anchor=(1.05, 1), loc=2, borderaxespad=0.)\n",
    "plt.xticks(rotation = 90)\n",
    "\n",
    "\n",
    "fig.tight_layout()"
   ]
  },
  {
   "cell_type": "markdown",
   "metadata": {},
   "source": [
    "Macs are popular with students from the DD(MIB & MsBA) program for both current and future laptops. It is also interesting that One-Year MsBAs have Windows laptops likely due to the nature of their programming jobs."
   ]
  },
  {
   "cell_type": "markdown",
   "metadata": {},
   "source": [
    "## <font color='steelblue'>Laptop Distribution by Age</font>"
   ]
  },
  {
   "cell_type": "code",
   "execution_count": 21,
   "metadata": {
    "ExecuteTime": {
     "end_time": "2021-02-23T04:44:15.701499Z",
     "start_time": "2021-02-23T04:44:15.242698Z"
    }
   },
   "outputs": [
    {
     "data": {
      "image/png": "[encoded data removed]",
      "text/plain": [
       "<Figure size 1080x576 with 2 Axes>"
      ]
     },
     "metadata": {
      "needs_background": "light"
     },
     "output_type": "display_data"
    }
   ],
   "source": [
    "fig, axes = plt.subplots(nrows=1, ncols=2, figsize=(15, 8)) # Setting the plot sizes \n",
    "\n",
    "plt.subplot(1,2,1)\n",
    "ax = sns.countplot(x   = 'Generation',       # Countplot set up\n",
    "                data = survey.sort_values(by='Generation'),\n",
    "                hue  = 'What laptop do you currently have?')\n",
    " #Setting title\n",
    "ax.set_title(\"Count Plot of Current Laptop Owners by Generation\"); \n",
    "\n",
    "# Moving the legend outside the graph\n",
    "plt.legend(bbox_to_anchor=(1.05, 1), loc=2, borderaxespad=0.) \n",
    "plt.xticks(rotation = 90) # Rotating x labels so they dont overlap\n",
    "\n",
    "plt.subplot(1,2,2)\n",
    "\n",
    "ax = sns.countplot(\n",
    "        x    = 'Generation',\n",
    "        data = survey.sort_values(by='Generation'),\n",
    "        hue  = 'What laptop would you buy in next assuming if all laptops cost the same?'\n",
    "                )\n",
    "\n",
    "ax.set_title(\"Count Plot of Laptop to buy in the Future by Generation\");\n",
    "plt.legend(bbox_to_anchor=(1.05, 1), loc=2, borderaxespad=0.)\n",
    "plt.xticks(rotation = 90)\n",
    "\n",
    "\n",
    "fig.tight_layout()"
   ]
  },
  {
   "cell_type": "markdown",
   "metadata": {},
   "source": [
    "Windows laptops are a popular choice for current laptop ownership for Millenials but future purchases are inclined towards MacBooks."
   ]
  },
  {
   "cell_type": "markdown",
   "metadata": {},
   "source": [
    "## <font color='steelblue'>Laptop Distribution by Region</font>"
   ]
  },
  {
   "cell_type": "code",
   "execution_count": 22,
   "metadata": {
    "ExecuteTime": {
     "end_time": "2021-02-23T04:44:16.834335Z",
     "start_time": "2021-02-23T04:44:15.704345Z"
    }
   },
   "outputs": [
    {
     "data": {
      "image/png": "[encoded data removed]",
      "text/plain": [
       "<Figure size 1080x576 with 2 Axes>"
      ]
     },
     "metadata": {
      "needs_background": "light"
     },
     "output_type": "display_data"
    }
   ],
   "source": [
    "fig, axes = plt.subplots(nrows=1, ncols=2, figsize=(15, 8)) # Setting the plot sizes \n",
    "\n",
    "plt.subplot(1,2,1)\n",
    "ax = sns.countplot(x   = 'continent',       # Countplot set up\n",
    "                data = survey,\n",
    "                hue  = 'What laptop do you currently have?')\n",
    "ax.set_title(\"Count Plot of Current Laptop Owners by Continent\");  #Setting title\n",
    "plt.legend(bbox_to_anchor=(1.05, 1), loc=2, borderaxespad=0.) # Moving the legend outside the graph\n",
    "plt.xticks(rotation = 90) # Rotating x labels so they dont overlap\n",
    "\n",
    "plt.subplot(1,2,2)\n",
    "\n",
    "ax = sns.countplot(x    = 'continent',\n",
    "                data = survey,\n",
    "                hue  = 'What laptop would you buy in next assuming if all laptops cost the same?')\n",
    "ax.set_title(\"Count Plot of Laptop to buy in the Future by Continent\");\n",
    "plt.legend(bbox_to_anchor=(1.05, 1), loc=2, borderaxespad=0.)\n",
    "plt.xticks(rotation = 90)\n",
    "\n",
    "\n",
    "fig.tight_layout()"
   ]
  },
  {
   "cell_type": "markdown",
   "metadata": {},
   "source": [
    "MacBooks are the most preferred current and future laptops across most continents."
   ]
  },
  {
   "cell_type": "markdown",
   "metadata": {},
   "source": [
    "## <font color='steelblue'>Distribution of Mean Responses</font>"
   ]
  },
  {
   "cell_type": "markdown",
   "metadata": {},
   "source": [
    "Most of the categories have a relatively normal distribution, and there is no skewness so no need to log transform."
   ]
  },
  {
   "cell_type": "code",
   "execution_count": 23,
   "metadata": {
    "ExecuteTime": {
     "end_time": "2021-02-23T04:44:18.616406Z",
     "start_time": "2021-02-23T04:44:16.866196Z"
    }
   },
   "outputs": [],
   "source": [
    "# plotting a distribution of the mean response for each respondent within each  personality category\n",
    "\n",
    "# commenting out distributuons to avoid data dumping\n",
    "#auto_distribution(survey.loc[:,'openness_rating':], survey.loc[:,'openness_rating':].columns)"
   ]
  },
  {
   "cell_type": "markdown",
   "metadata": {},
   "source": [
    "# <font color='navy'>Big-Five</font>"
   ]
  },
  {
   "cell_type": "markdown",
   "metadata": {},
   "source": [
    "Conducting PCA on the Big-Five features to narrow down key insights between customer behaviour."
   ]
  },
  {
   "cell_type": "markdown",
   "metadata": {},
   "source": [
    "## <font color='steelblue'>Principal Component Analysis</font>"
   ]
  },
  {
   "cell_type": "code",
   "execution_count": 24,
   "metadata": {
    "ExecuteTime": {
     "end_time": "2021-02-23T04:44:18.724319Z",
     "start_time": "2021-02-23T04:44:18.704464Z"
    }
   },
   "outputs": [],
   "source": [
    "# Normalising the variances of the big-five features.\n",
    "\n",
    "# INSTANTIATING a StandardScaler() object\n",
    "big_five_scaler = StandardScaler()\n",
    "\n",
    "\n",
    "# FITTING the scaler with the data\n",
    "big_five_scaler.fit(big_five_mean_survey)\n",
    "\n",
    "\n",
    "# TRANSFORMING our data after fit\n",
    "big_five_X_scaled = big_five_scaler.transform(big_five_mean_survey)\n",
    "\n",
    "\n",
    "# converting scaled data into a DataFrame\n",
    "big_five_ratings_scaled = pd.DataFrame(big_five_X_scaled)\n",
    "\n",
    "\n",
    "# reattaching column names\n",
    "big_five_ratings_scaled.columns = big_five_mean_survey.columns\n"
   ]
  },
  {
   "cell_type": "code",
   "execution_count": 25,
   "metadata": {
    "ExecuteTime": {
     "end_time": "2021-02-23T04:44:18.740364Z",
     "start_time": "2021-02-23T04:44:18.729257Z"
    }
   },
   "outputs": [],
   "source": [
    "# After an in-depth analysis, choosing 3 Features to represent our data\n",
    "\n",
    "1# INSTANTIATING a PCA object with no limit to principal components\n",
    "big_five_pca = PCA(n_components = 3,\n",
    "          random_state = 802)\n",
    "\n",
    "\n",
    "# FITTING and TRANSFORMING the scaled data\n",
    "big_five_pca_fitted = big_five_pca.fit_transform(big_five_X_scaled)\n",
    "\n"
   ]
  },
  {
   "cell_type": "code",
   "execution_count": 26,
   "metadata": {
    "ExecuteTime": {
     "end_time": "2021-02-23T04:44:18.788589Z",
     "start_time": "2021-02-23T04:44:18.762495Z"
    }
   },
   "outputs": [
    {
     "name": "stdout",
     "output_type": "stream",
     "text": [
      "PC 1 : 0.354\n",
      "PC 2 : 0.198\n",
      "PC 3 : 0.183\n"
     ]
    }
   ],
   "source": [
    "# component number counter\n",
    "component_number = 0\n",
    "\n",
    "\n",
    "# looping over each principal component\n",
    "for variance in big_five_pca.explained_variance_ratio_:\n",
    "    component_number += 1\n",
    "    print(f\"PC {component_number} : {variance.round(3)}\")"
   ]
  },
  {
   "cell_type": "code",
   "execution_count": 27,
   "metadata": {
    "ExecuteTime": {
     "end_time": "2021-02-23T04:44:18.913757Z",
     "start_time": "2021-02-23T04:44:18.795054Z"
    },
    "scrolled": true
   },
   "outputs": [
    {
     "name": "stderr",
     "output_type": "stream",
     "text": [
      "<ipython-input-27-5fdfffc39c6c>:4: FutureWarning: The pandas.np module is deprecated and will be removed from pandas in a future version. Import numpy directly instead\n",
      "  factor_loadings_df = pd.DataFrame(pd.np.transpose(big_five_pca.components_))\n"
     ]
    },
    {
     "data": {
      "text/html": [
       "<div>\n",
       "<style scoped>\n",
       "    .dataframe tbody tr th:only-of-type {\n",
       "        vertical-align: middle;\n",
       "    }\n",
       "\n",
       "    .dataframe tbody tr th {\n",
       "        vertical-align: top;\n",
       "    }\n",
       "\n",
       "    .dataframe thead th {\n",
       "        text-align: right;\n",
       "    }\n",
       "</style>\n",
       "<table border=\"1\" class=\"dataframe\">\n",
       "  <thead>\n",
       "    <tr style=\"text-align: right;\">\n",
       "      <th></th>\n",
       "      <th>Vulnerable Narcissists</th>\n",
       "      <th>Unreliable Extroverts</th>\n",
       "      <th>Attentive Wallflowers</th>\n",
       "    </tr>\n",
       "  </thead>\n",
       "  <tbody>\n",
       "    <tr>\n",
       "      <th>openness_rating</th>\n",
       "      <td>-0.498311</td>\n",
       "      <td>0.260117</td>\n",
       "      <td>0.130020</td>\n",
       "    </tr>\n",
       "    <tr>\n",
       "      <th>conscientiousness_rating</th>\n",
       "      <td>-0.513301</td>\n",
       "      <td>-0.332001</td>\n",
       "      <td>0.419592</td>\n",
       "    </tr>\n",
       "    <tr>\n",
       "      <th>extraversion_rating</th>\n",
       "      <td>-0.375885</td>\n",
       "      <td>0.427306</td>\n",
       "      <td>-0.723443</td>\n",
       "    </tr>\n",
       "    <tr>\n",
       "      <th>agreeableness_rating</th>\n",
       "      <td>-0.512122</td>\n",
       "      <td>0.205153</td>\n",
       "      <td>0.250841</td>\n",
       "    </tr>\n",
       "    <tr>\n",
       "      <th>neuroticism_rating</th>\n",
       "      <td>0.290946</td>\n",
       "      <td>0.772940</td>\n",
       "      <td>0.469836</td>\n",
       "    </tr>\n",
       "  </tbody>\n",
       "</table>\n",
       "</div>"
      ],
      "text/plain": [
       "                          Vulnerable Narcissists  Unreliable Extroverts  Attentive Wallflowers\n",
       "openness_rating                        -0.498311               0.260117               0.130020\n",
       "conscientiousness_rating               -0.513301              -0.332001               0.419592\n",
       "extraversion_rating                    -0.375885               0.427306              -0.723443\n",
       "agreeableness_rating                   -0.512122               0.205153               0.250841\n",
       "neuroticism_rating                      0.290946               0.772940               0.469836"
      ]
     },
     "execution_count": 27,
     "metadata": {},
     "output_type": "execute_result"
    }
   ],
   "source": [
    "# Appropriately naming the results of the PCA for analysis\n",
    "\n",
    "# transposing pca components\n",
    "factor_loadings_df = pd.DataFrame(pd.np.transpose(big_five_pca.components_))\n",
    "\n",
    "\n",
    "# naming rows as original features\n",
    "factor_loadings_df = factor_loadings_df.set_index(big_five_ratings_scaled.columns)\n",
    "\n",
    "\n",
    "\n",
    "# saving to Excel\n",
    "factor_loadings_df.to_excel('customer_factor_loadings.xlsx')\n",
    "\n",
    "factor_loadings_df = factor_loadings_df.rename(columns={0: \"Vulnerable Narcissists\",\n",
    "                                                        1: \"Unreliable Extroverts\",\n",
    "                                                        2: \"Attentive Wallflowers\"})\n",
    "factor_loadings_df"
   ]
  },
  {
   "cell_type": "markdown",
   "metadata": {},
   "source": [
    "**Component Analysis**\n",
    "\n",
    "- **Vulnerable Narcissists**\n",
    "This group is high in neuroticism and low in the other four traits, particularly agreeableness. They are moody, reserved and tend to dislike structure and abstract concepts (Cherry, 2020). Vulnerable narcissism is positively associated with neuroticism but negatively correlated with the agreeableness and extraversion characteristics (Zajenkowski, 2019).\n",
    "\n",
    "\n",
    "- **Unreliable Extroverts**\n",
    "Members of this group exhibit high neuroticism, high extraversion and low conscientiousness. They are often anxious and easily stressed but outgoing and thrive in social situations. Contrastingly, they are disorganized and dislike structure (Cherry 2020).\n",
    "\n",
    "\n",
    "- **Attentive Wallflowers**\n",
    "This group is characterized by low extraversion, high conscientiousness and high neuroticism. People in this group can be emotionally unstable but are quite thoughtful, organized and detail-oriented (Cherry ,2020)"
   ]
  },
  {
   "cell_type": "code",
   "execution_count": 28,
   "metadata": {
    "ExecuteTime": {
     "end_time": "2021-02-23T04:44:18.930351Z",
     "start_time": "2021-02-23T04:44:18.925984Z"
    }
   },
   "outputs": [],
   "source": [
    "# converting into a DataFrame \n",
    "big_five_pca_fitted = pd.DataFrame(big_five_pca_fitted)\n",
    "\n",
    "# checking results\n",
    "X_pca_df_big_five = big_five_pca_fitted.copy()"
   ]
  },
  {
   "cell_type": "code",
   "execution_count": 29,
   "metadata": {
    "ExecuteTime": {
     "end_time": "2021-02-23T04:44:18.969355Z",
     "start_time": "2021-02-23T04:44:18.935653Z"
    },
    "scrolled": true
   },
   "outputs": [],
   "source": [
    "####################\n",
    "# Fixing variances of the new features to cluster the groups\n",
    "####################\n",
    "\n",
    "\n",
    "# INSTANTIATING a StandardScaler() object\n",
    "pca_big_five_scaler = StandardScaler()\n",
    "\n",
    "\n",
    "# FITTING the scaler with the data\n",
    "pca_big_five_scaler.fit(X_pca_df_big_five)\n",
    "\n",
    "\n",
    "# TRANSFORMING our data after fit\n",
    "X_scaled_pca_big_five = pca_big_five_scaler.transform(X_pca_df_big_five)\n",
    "\n",
    "\n",
    "# converting scaled data into a DataFrame\n",
    "pca_scaled_big_five = pd.DataFrame(X_scaled_pca_big_five)\n",
    "\n",
    "\n"
   ]
  },
  {
   "cell_type": "markdown",
   "metadata": {},
   "source": [
    "## <font color='steelblue'>Clustering</font> "
   ]
  },
  {
   "cell_type": "code",
   "execution_count": 30,
   "metadata": {
    "ExecuteTime": {
     "end_time": "2021-02-23T04:44:31.495650Z",
     "start_time": "2021-02-23T04:44:18.978892Z"
    }
   },
   "outputs": [
    {
     "data": {
      "image/png": "[encoded data removed]",
      "text/plain": [
       "<Figure size 864x864 with 1 Axes>"
      ]
     },
     "metadata": {
      "needs_background": "light"
     },
     "output_type": "display_data"
    }
   ],
   "source": [
    "# grouping data based on Ward distance\n",
    "standard_mergings_ward = linkage(y = pca_scaled_big_five,\n",
    "                                 method = 'ward',\n",
    "                                 optimal_ordering = True)\n",
    "\n",
    "\n",
    "# setting plot size\n",
    "fig, ax = plt.subplots(figsize=(12, 12))\n",
    "\n",
    "# developing a dendrogram\n",
    "dendrogram(Z = standard_mergings_ward,\n",
    "           leaf_rotation = 90,\n",
    "           leaf_font_size = 6)\n",
    "\n",
    "\n",
    "# saving and displaying the plot\n",
    "plt.show()"
   ]
  },
  {
   "cell_type": "markdown",
   "metadata": {},
   "source": [
    "Dendogram suggests that we should split are data into 5 clusters. After some trial and error and analysing, we settled with 4 clusters"
   ]
  },
  {
   "cell_type": "code",
   "execution_count": 31,
   "metadata": {
    "ExecuteTime": {
     "end_time": "2021-02-23T04:44:31.695222Z",
     "start_time": "2021-02-23T04:44:31.509080Z"
    }
   },
   "outputs": [
    {
     "name": "stdout",
     "output_type": "stream",
     "text": [
      "2    44\n",
      "1    35\n",
      "0    32\n",
      "3    24\n",
      "Name: Cluster, dtype: int64\n"
     ]
    }
   ],
   "source": [
    "# INSTANTIATING a k-Means object with clusters\n",
    "big_five_k_pca = KMeans(n_clusters   = 4,\n",
    "                         random_state = 219)\n",
    "\n",
    "\n",
    "# fitting the object to the data\n",
    "big_five_k_pca.fit(pca_scaled_big_five)\n",
    "\n",
    "\n",
    "# converting the clusters to a DataFrame\n",
    "big_five_kmeans_pca = pd.DataFrame({'Cluster': big_five_k_pca.labels_})\n",
    "\n",
    "\n",
    "# checking the results\n",
    "print(big_five_kmeans_pca.iloc[: , 0].value_counts())"
   ]
  },
  {
   "cell_type": "code",
   "execution_count": 32,
   "metadata": {
    "ExecuteTime": {
     "end_time": "2021-02-23T04:44:31.722225Z",
     "start_time": "2021-02-23T04:44:31.702814Z"
    }
   },
   "outputs": [
    {
     "data": {
      "text/html": [
       "<div>\n",
       "<style scoped>\n",
       "    .dataframe tbody tr th:only-of-type {\n",
       "        vertical-align: middle;\n",
       "    }\n",
       "\n",
       "    .dataframe tbody tr th {\n",
       "        vertical-align: top;\n",
       "    }\n",
       "\n",
       "    .dataframe thead th {\n",
       "        text-align: right;\n",
       "    }\n",
       "</style>\n",
       "<table border=\"1\" class=\"dataframe\">\n",
       "  <thead>\n",
       "    <tr style=\"text-align: right;\">\n",
       "      <th></th>\n",
       "      <th>Vulnerable Narcissists</th>\n",
       "      <th>Unreliable Extroverts</th>\n",
       "      <th>Attentive Wallflowers</th>\n",
       "    </tr>\n",
       "  </thead>\n",
       "  <tbody>\n",
       "    <tr>\n",
       "      <th>0</th>\n",
       "      <td>1.04</td>\n",
       "      <td>-0.19</td>\n",
       "      <td>-0.77</td>\n",
       "    </tr>\n",
       "    <tr>\n",
       "      <th>1</th>\n",
       "      <td>-0.07</td>\n",
       "      <td>-0.78</td>\n",
       "      <td>0.86</td>\n",
       "    </tr>\n",
       "    <tr>\n",
       "      <th>2</th>\n",
       "      <td>-0.93</td>\n",
       "      <td>0.12</td>\n",
       "      <td>-0.65</td>\n",
       "    </tr>\n",
       "    <tr>\n",
       "      <th>3</th>\n",
       "      <td>0.42</td>\n",
       "      <td>1.17</td>\n",
       "      <td>0.98</td>\n",
       "    </tr>\n",
       "  </tbody>\n",
       "</table>\n",
       "</div>"
      ],
      "text/plain": [
       "   Vulnerable Narcissists  Unreliable Extroverts  Attentive Wallflowers\n",
       "0                    1.04                  -0.19                  -0.77\n",
       "1                   -0.07                  -0.78                   0.86\n",
       "2                   -0.93                   0.12                  -0.65\n",
       "3                    0.42                   1.17                   0.98"
      ]
     },
     "execution_count": 32,
     "metadata": {},
     "output_type": "execute_result"
    }
   ],
   "source": [
    "# storing cluster centers\n",
    "big_five_centroids_pca = big_five_k_pca.cluster_centers_\n",
    "\n",
    "\n",
    "# converting cluster centers into a DataFrame\n",
    "big_five_centroids_pca_df = pd.DataFrame(big_five_centroids_pca)\n",
    "\n",
    "\n",
    "# renaming principal components\n",
    "big_five_centroids_pca_df.columns = ['Vulnerable Narcissists', \n",
    "                                    'Unreliable Extroverts',      \n",
    "                                    'Attentive Wallflowers'] \n",
    "\n",
    "\n",
    "# checking results (clusters = rows, pc = columns)\n",
    "big_five_centroids_pca_df.round(2)"
   ]
  },
  {
   "cell_type": "markdown",
   "metadata": {},
   "source": [
    "Each cluster is distinct. \n",
    "\n",
    "* Cluster 0 favors Vulnerable Narcissists.\n",
    "* Cluster 1 favors Attentive Wallflowers.\n",
    "* Cluster 2 favors Unreliable Extroverts but not by much - Most participants\n",
    "* Cluster 3 favors a blend of all three types of personalities - Fewest Participants"
   ]
  },
  {
   "cell_type": "code",
   "execution_count": 33,
   "metadata": {
    "ExecuteTime": {
     "end_time": "2021-02-23T04:44:31.756979Z",
     "start_time": "2021-02-23T04:44:31.741287Z"
    }
   },
   "outputs": [],
   "source": [
    "clst_pca_df = pd.concat([big_five_kmeans_pca,\n",
    "                         X_pca_df_big_five],\n",
    "                         axis = 1)\n",
    "\n",
    "# concatenating demographic information with pca-clusters\n",
    "final_pca_clust_df = pd.concat([survey.loc[ : , ['What laptop do you currently have?', 'What laptop would you buy in next assuming if all laptops cost the same?']],\n",
    "                                clst_pca_df],\n",
    "                                axis = 1)"
   ]
  },
  {
   "cell_type": "code",
   "execution_count": 34,
   "metadata": {
    "ExecuteTime": {
     "end_time": "2021-02-23T04:44:31.769181Z",
     "start_time": "2021-02-23T04:44:31.762358Z"
    },
    "scrolled": true
   },
   "outputs": [],
   "source": [
    "# Making a final dataframe for boxplot visualisations\n",
    "\n",
    "final_pca_clust_df = final_pca_clust_df.rename(columns= {0:'Vulnerable Narcissists',\n",
    "                                                         1:'Unreliable Extroverts',\n",
    "                                                         2:'Attentive Wallflowers'})\n"
   ]
  },
  {
   "cell_type": "markdown",
   "metadata": {},
   "source": [
    "## <font color='steelblue'>Big Five Boxplot Visualisations</font>  "
   ]
  },
  {
   "cell_type": "code",
   "execution_count": 35,
   "metadata": {
    "ExecuteTime": {
     "end_time": "2021-02-23T04:44:31.782295Z",
     "start_time": "2021-02-23T04:44:31.771559Z"
    }
   },
   "outputs": [],
   "source": [
    "# removing chromebook observations. Not enough data to analyse\n",
    "final_pca_clust_df = final_pca_clust_df[final_pca_clust_df[\"What laptop would you buy in next assuming if all laptops cost the same?\"]!= \"Chromebook\"]"
   ]
  },
  {
   "cell_type": "code",
   "execution_count": 36,
   "metadata": {
    "ExecuteTime": {
     "end_time": "2021-02-23T04:44:32.177024Z",
     "start_time": "2021-02-23T04:44:31.783989Z"
    },
    "cell_style": "center",
    "code_folding": []
   },
   "outputs": [
    {
     "data": {
      "text/plain": [
       "<AxesSubplot:xlabel='What laptop would you buy in next assuming if all laptops cost the same?', ylabel='Vulnerable Narcissists'>"
      ]
     },
     "execution_count": 36,
     "metadata": {},
     "output_type": "execute_result"
    },
    {
     "data": {
      "image/png": "[encoded data removed]",
      "text/plain": [
       "<Figure size 864x720 with 1 Axes>"
      ]
     },
     "metadata": {
      "needs_background": "light"
     },
     "output_type": "display_data"
    }
   ],
   "source": [
    "########################\n",
    "# Future Laptop Vulnerable Narcissists\n",
    "########################\n",
    "\n",
    "\n",
    "fig, ax = plt.subplots(figsize = (12, 10))\n",
    "sns.boxplot(x = 'What laptop would you buy in next assuming if all laptops cost the same?',\n",
    "            y = \"Vulnerable Narcissists\",\n",
    "            hue = 'Cluster',\n",
    "            data = final_pca_clust_df)\n",
    "\n"
   ]
  },
  {
   "cell_type": "markdown",
   "metadata": {},
   "source": [
    "\n",
    "As we see in the plot above, the two blue plots(cluster 0) are slightly separated, this shows that people with Windows Laptops score higher in the Vulnerable Narcissists category. They prefer being alone. They tend to be avid gamers therefore the dedicated GPUs are more important to them than the user experience. \n"
   ]
  },
  {
   "cell_type": "code",
   "execution_count": 37,
   "metadata": {
    "ExecuteTime": {
     "end_time": "2021-02-23T04:44:33.194590Z",
     "start_time": "2021-02-23T04:44:32.180365Z"
    },
    "scrolled": false
   },
   "outputs": [
    {
     "data": {
      "text/plain": [
       "<AxesSubplot:xlabel='What laptop do you currently have?', ylabel='Unreliable Extroverts'>"
      ]
     },
     "execution_count": 37,
     "metadata": {},
     "output_type": "execute_result"
    },
    {
     "data": {
      "image/png": "[encoded data removed]",
      "text/plain": [
       "<Figure size 864x576 with 1 Axes>"
      ]
     },
     "metadata": {
      "needs_background": "light"
     },
     "output_type": "display_data"
    }
   ],
   "source": [
    "########################\n",
    "# Current Laptop Unreliable Extroverts\n",
    "########################\n",
    "\n",
    "\n",
    "fig, ax = plt.subplots(figsize = (12, 8))\n",
    "sns.boxplot(x = 'What laptop do you currently have?',\n",
    "            y = \"Unreliable Extroverts\",\n",
    "            hue = 'Cluster',\n",
    "            data = final_pca_clust_df)\n",
    "\n"
   ]
  },
  {
   "cell_type": "markdown",
   "metadata": {},
   "source": [
    "Unreliable Extroverts tend to choose a MacBook. Macs are easy to use and user friendly, and these people are usually unorganized and get easily stressed, so it is preferable for them to choose a Mac. MacBooks are the most widely used operating system when working in the design industry (Sorrentino, 2021)."
   ]
  },
  {
   "cell_type": "code",
   "execution_count": 38,
   "metadata": {
    "ExecuteTime": {
     "end_time": "2021-02-23T04:44:33.596473Z",
     "start_time": "2021-02-23T04:44:33.202384Z"
    },
    "scrolled": false
   },
   "outputs": [
    {
     "data": {
      "text/plain": [
       "<AxesSubplot:xlabel='What laptop would you buy in next assuming if all laptops cost the same?', ylabel='Unreliable Extroverts'>"
      ]
     },
     "execution_count": 38,
     "metadata": {},
     "output_type": "execute_result"
    },
    {
     "data": {
      "image/png": "[encoded data removed]",
      "text/plain": [
       "<Figure size 864x576 with 1 Axes>"
      ]
     },
     "metadata": {
      "needs_background": "light"
     },
     "output_type": "display_data"
    }
   ],
   "source": [
    "########################\n",
    "# Future Laptop Vulnerable Narcissists\n",
    "########################\n",
    "\n",
    "\n",
    "fig, ax = plt.subplots(figsize = (12, 8))\n",
    "sns.boxplot(x = 'What laptop would you buy in next assuming if all laptops cost the same?',\n",
    "            y = \"Unreliable Extroverts\",\n",
    "            hue = 'Cluster',\n",
    "            data = final_pca_clust_df)"
   ]
  },
  {
   "cell_type": "markdown",
   "metadata": {},
   "source": [
    "Fewer people shifted to using more MacBooks than Windows as it is likely preferable in their industries. MacBooks also come with added features like easy connectivity between devices to share screens and share ideas. As this type of people are mostly creative, they would prefer having easy connectivity communicate their ideas with colleagues."
   ]
  },
  {
   "cell_type": "code",
   "execution_count": 39,
   "metadata": {
    "ExecuteTime": {
     "end_time": "2021-02-23T04:44:33.982886Z",
     "start_time": "2021-02-23T04:44:33.600144Z"
    }
   },
   "outputs": [
    {
     "data": {
      "text/plain": [
       "<AxesSubplot:xlabel='What laptop do you currently have?', ylabel='Attentive Wallflowers'>"
      ]
     },
     "execution_count": 39,
     "metadata": {},
     "output_type": "execute_result"
    },
    {
     "data": {
      "image/png": "[encoded data removed]",
      "text/plain": [
       "<Figure size 864x576 with 1 Axes>"
      ]
     },
     "metadata": {
      "needs_background": "light"
     },
     "output_type": "display_data"
    }
   ],
   "source": [
    "######################## Idinma #######################\n",
    "\n",
    "########################\n",
    "# Current Laptop Attentive Wallflowers\n",
    "########################\n",
    "\n",
    "\n",
    "fig, ax = plt.subplots(figsize = (12, 8))\n",
    "sns.boxplot(x = 'What laptop do you currently have?',\n",
    "            y = \"Attentive Wallflowers\",\n",
    "            hue = 'Cluster',\n",
    "            data = final_pca_clust_df)\n",
    "\n"
   ]
  },
  {
   "cell_type": "markdown",
   "metadata": {},
   "source": [
    "Windows Users in cluster 1 are likely to be Attentive Wallflowers. We understand that people this group tend to be more reserved and introverted. They are also often anxious and stressed. However, what they lack in social skills, they make up for with their thoughtfulness and keen eye for detail (Cherry 2020).\n",
    "\n",
    "As introverts, people in this group tend to enjoy intimate and meaningful conversations. They likely enjoy solo activities like listening to music and playing video games. Since they don't enjoy crowded places, they prefer the convenience of online shopping over an in-store experience (Cashman 2021)."
   ]
  },
  {
   "cell_type": "code",
   "execution_count": 40,
   "metadata": {
    "ExecuteTime": {
     "end_time": "2021-02-23T04:44:34.292441Z",
     "start_time": "2021-02-23T04:44:33.985097Z"
    },
    "scrolled": false
   },
   "outputs": [
    {
     "data": {
      "text/plain": [
       "<AxesSubplot:xlabel='What laptop would you buy in next assuming if all laptops cost the same?', ylabel='Attentive Wallflowers'>"
      ]
     },
     "execution_count": 40,
     "metadata": {},
     "output_type": "execute_result"
    },
    {
     "data": {
      "image/png": "[encoded data removed]",
      "text/plain": [
       "<Figure size 864x576 with 1 Axes>"
      ]
     },
     "metadata": {
      "needs_background": "light"
     },
     "output_type": "display_data"
    }
   ],
   "source": [
    "########################\n",
    "# Future Laptop Attentive Wallflowers\n",
    "########################\n",
    "\n",
    "\n",
    "fig, ax = plt.subplots(figsize = (12, 8))\n",
    "sns.boxplot(x = 'What laptop would you buy in next assuming if all laptops cost the same?',\n",
    "            y = \"Attentive Wallflowers\",\n",
    "            hue = 'Cluster',\n",
    "            data = final_pca_clust_df)\n",
    "\n"
   ]
  },
  {
   "cell_type": "markdown",
   "metadata": {},
   "source": [
    "\n",
    "Macbook and Windows users are close for Attentive Wallflowers. So, even though the previous plot suggested that Attentive Wallflowers might prefer a Windows laptop over a Macbook, there is no clear preference for laptop they would buy in the future, which presents an opportunity."
   ]
  },
  {
   "cell_type": "markdown",
   "metadata": {},
   "source": [
    "# <font color='navy'>Hult DNA</font>"
   ]
  },
  {
   "cell_type": "markdown",
   "metadata": {},
   "source": [
    "*Disclaimer: After analyzing the features, namely \"thinking_rating\", \"communicating_rating\" and \"team_building_rating\", it seems that these are strongly interlinked; not necessarily correlated. It isn't outrightly visible what it is these rating are quantifying and how they explain the individuals’ personality. This is a conundrum in addition to the fact that the answers are based on the participants' own perception of themselves.*"
   ]
  },
  {
   "cell_type": "markdown",
   "metadata": {},
   "source": [
    "## <font color='steelblue'>Principal Component Analysis</font>"
   ]
  },
  {
   "cell_type": "code",
   "execution_count": 41,
   "metadata": {
    "ExecuteTime": {
     "end_time": "2021-02-23T04:44:34.311735Z",
     "start_time": "2021-02-23T04:44:34.294961Z"
    }
   },
   "outputs": [],
   "source": [
    "# INSTANTIATING a StandardScaler() object\n",
    "hult_scaler = StandardScaler()\n",
    "\n",
    "\n",
    "# FITTING the scaler with the data\n",
    "hult_scaler.fit(hult_dna_mean_survey)\n",
    "\n",
    "\n",
    "# TRANSFORMING our data after fit\n",
    "hult_X_scaled = hult_scaler.transform(hult_dna_mean_survey)\n",
    "\n",
    "\n",
    "# converting scaled data into a DataFrame\n",
    "hult_ratings_scaled = pd.DataFrame(hult_X_scaled)\n",
    "\n",
    "\n",
    "# reattaching column names\n",
    "hult_ratings_scaled.columns = hult_dna_mean_survey.columns"
   ]
  },
  {
   "cell_type": "code",
   "execution_count": 42,
   "metadata": {
    "ExecuteTime": {
     "end_time": "2021-02-23T04:44:34.325745Z",
     "start_time": "2021-02-23T04:44:34.314406Z"
    }
   },
   "outputs": [
    {
     "name": "stdout",
     "output_type": "stream",
     "text": [
      "Original shape: (135, 3)\n",
      "PCA shape     : (135, 2)\n"
     ]
    }
   ],
   "source": [
    "# INSTANTIATING a PCA object with no limit to principal components\n",
    "hult_pca = PCA(n_components = 2,\n",
    "          random_state = 802)\n",
    "\n",
    "\n",
    "# FITTING and TRANSFORMING the scaled data\n",
    "hult_pca_fitted = hult_pca.fit_transform(hult_X_scaled)\n",
    "\n",
    "\n",
    "# comparing dimensions of each DataFrame\n",
    "print(\"Original shape:\", hult_X_scaled.shape)\n",
    "print(\"PCA shape     :\", hult_pca_fitted.shape)"
   ]
  },
  {
   "cell_type": "code",
   "execution_count": 43,
   "metadata": {
    "ExecuteTime": {
     "end_time": "2021-02-23T04:44:34.367990Z",
     "start_time": "2021-02-23T04:44:34.329252Z"
    }
   },
   "outputs": [
    {
     "name": "stderr",
     "output_type": "stream",
     "text": [
      "<ipython-input-43-abed7f631cd2>:2: FutureWarning: The pandas.np module is deprecated and will be removed from pandas in a future version. Import numpy directly instead\n",
      "  hult_factor_loadings_df = pd.DataFrame(pd.np.transpose(hult_pca.components_))\n"
     ]
    },
    {
     "data": {
      "text/html": [
       "<div>\n",
       "<style scoped>\n",
       "    .dataframe tbody tr th:only-of-type {\n",
       "        vertical-align: middle;\n",
       "    }\n",
       "\n",
       "    .dataframe tbody tr th {\n",
       "        vertical-align: top;\n",
       "    }\n",
       "\n",
       "    .dataframe thead th {\n",
       "        text-align: right;\n",
       "    }\n",
       "</style>\n",
       "<table border=\"1\" class=\"dataframe\">\n",
       "  <thead>\n",
       "    <tr style=\"text-align: right;\">\n",
       "      <th></th>\n",
       "      <th>Incomplete Leaders</th>\n",
       "      <th>Square Team-Players</th>\n",
       "    </tr>\n",
       "  </thead>\n",
       "  <tbody>\n",
       "    <tr>\n",
       "      <th>thinking_rating</th>\n",
       "      <td>-0.554939</td>\n",
       "      <td>-0.806978</td>\n",
       "    </tr>\n",
       "    <tr>\n",
       "      <th>communicating_rating</th>\n",
       "      <td>-0.596812</td>\n",
       "      <td>0.216988</td>\n",
       "    </tr>\n",
       "    <tr>\n",
       "      <th>team_building_rating</th>\n",
       "      <td>-0.579533</td>\n",
       "      <td>0.549274</td>\n",
       "    </tr>\n",
       "  </tbody>\n",
       "</table>\n",
       "</div>"
      ],
      "text/plain": [
       "                      Incomplete Leaders  Square Team-Players\n",
       "thinking_rating                -0.554939            -0.806978\n",
       "communicating_rating           -0.596812             0.216988\n",
       "team_building_rating           -0.579533             0.549274"
      ]
     },
     "execution_count": 43,
     "metadata": {},
     "output_type": "execute_result"
    }
   ],
   "source": [
    "# transposing pca components\n",
    "hult_factor_loadings_df = pd.DataFrame(pd.np.transpose(hult_pca.components_))\n",
    "\n",
    "\n",
    "# naming rows as original features\n",
    "hult_factor_loadings_df = hult_factor_loadings_df.set_index(hult_ratings_scaled.columns)\n",
    "\n",
    "\n",
    "\n",
    "# saving to Excel\n",
    "hult_factor_loadings_df.to_excel('customer_factor_loadings.xlsx')\n",
    "\n",
    "hult_factor_loadings_df = hult_factor_loadings_df.rename(\n",
    "                                            columns = {0:\"Incomplete Leaders\",\n",
    "                                                       1:\"Square Team-Players\"}\n",
    "                                                        )\n",
    "hult_factor_loadings_df"
   ]
  },
  {
   "cell_type": "markdown",
   "metadata": {},
   "source": [
    "**Component Analysis**\n",
    "\n",
    "- **Incomplete Leaders**\n",
    "People in this group are below the mean in all three Hult DNA components. The Hult DNA was designed with leadership skills in mind. Therefore, these results reveal that they are lacking in core leadership skills like lack self-awareness and communication. As Hult students, one can expect that they will learn these skills by the end of their degree program.\n",
    "\n",
    "- **Square Team-Players**\n",
    "This group has low thinking skills, but high team-building and communication skills. Members of this group are not very self-aware or dynamic in their thinking. However, they are able to foster good relationships and communicate effectively with their peers."
   ]
  },
  {
   "cell_type": "code",
   "execution_count": 44,
   "metadata": {
    "ExecuteTime": {
     "end_time": "2021-02-23T04:44:34.403491Z",
     "start_time": "2021-02-23T04:44:34.369714Z"
    }
   },
   "outputs": [],
   "source": [
    "# converting into a DataFrame \n",
    "hult_pca_fitted = pd.DataFrame(hult_pca_fitted)\n",
    "\n",
    "# checking results\n",
    "X_pca_df_hult = hult_pca_fitted.copy()"
   ]
  },
  {
   "cell_type": "code",
   "execution_count": 45,
   "metadata": {
    "ExecuteTime": {
     "end_time": "2021-02-23T04:44:34.422533Z",
     "start_time": "2021-02-23T04:44:34.408182Z"
    }
   },
   "outputs": [],
   "source": [
    "####################\n",
    "# Fixing variances for Hult PCAs\n",
    "####################\n",
    "\n",
    "\n",
    "# INSTANTIATING a StandardScaler() object\n",
    "pca_hult_scaler = StandardScaler()\n",
    "\n",
    "\n",
    "# FITTING the scaler with the data\n",
    "pca_hult_scaler.fit(X_pca_df_hult)\n",
    "\n",
    "\n",
    "# TRANSFORMING our data after fit\n",
    "X_scaled_pca_hult = pca_hult_scaler.transform(X_pca_df_hult)\n",
    "\n",
    "\n",
    "# converting scaled data into a DataFrame\n",
    "pca_scaled_hult = pd.DataFrame(X_scaled_pca_hult)"
   ]
  },
  {
   "cell_type": "markdown",
   "metadata": {},
   "source": [
    "## <font color='steelblue'>Clustering</font>"
   ]
  },
  {
   "cell_type": "code",
   "execution_count": 46,
   "metadata": {
    "ExecuteTime": {
     "end_time": "2021-02-23T04:44:34.490328Z",
     "start_time": "2021-02-23T04:44:34.424909Z"
    }
   },
   "outputs": [
    {
     "name": "stdout",
     "output_type": "stream",
     "text": [
      "0    52\n",
      "1    44\n",
      "2    39\n",
      "Name: Cluster, dtype: int64\n"
     ]
    }
   ],
   "source": [
    "# Dendogram suggested to make 2 clusters. Upon analysis we decided to retain\n",
    "# 3 clusters instead\n",
    "\n",
    "# INSTANTIATING a k-Means object with clusters\n",
    "hult_k_pca = KMeans(n_clusters   = 3,\n",
    "                         random_state = 219)\n",
    "\n",
    "\n",
    "# fitting the object to the data\n",
    "hult_k_pca.fit(pca_scaled_hult)\n",
    "\n",
    "\n",
    "# converting the clusters to a DataFrame\n",
    "hult_kmeans_pca = pd.DataFrame({'Cluster': hult_k_pca.labels_})\n",
    "\n",
    "\n",
    "# checking the results\n",
    "print(hult_kmeans_pca.iloc[: , 0].value_counts())"
   ]
  },
  {
   "cell_type": "code",
   "execution_count": 47,
   "metadata": {
    "ExecuteTime": {
     "end_time": "2021-02-23T04:44:34.535157Z",
     "start_time": "2021-02-23T04:44:34.492744Z"
    }
   },
   "outputs": [
    {
     "data": {
      "text/html": [
       "<div>\n",
       "<style scoped>\n",
       "    .dataframe tbody tr th:only-of-type {\n",
       "        vertical-align: middle;\n",
       "    }\n",
       "\n",
       "    .dataframe tbody tr th {\n",
       "        vertical-align: top;\n",
       "    }\n",
       "\n",
       "    .dataframe thead th {\n",
       "        text-align: right;\n",
       "    }\n",
       "</style>\n",
       "<table border=\"1\" class=\"dataframe\">\n",
       "  <thead>\n",
       "    <tr style=\"text-align: right;\">\n",
       "      <th></th>\n",
       "      <th>Incomplete Leaders</th>\n",
       "      <th>Square Team-Players</th>\n",
       "    </tr>\n",
       "  </thead>\n",
       "  <tbody>\n",
       "    <tr>\n",
       "      <th>0</th>\n",
       "      <td>-0.9</td>\n",
       "      <td>0.11</td>\n",
       "    </tr>\n",
       "    <tr>\n",
       "      <th>1</th>\n",
       "      <td>0.8</td>\n",
       "      <td>0.83</td>\n",
       "    </tr>\n",
       "    <tr>\n",
       "      <th>2</th>\n",
       "      <td>0.3</td>\n",
       "      <td>-1.08</td>\n",
       "    </tr>\n",
       "  </tbody>\n",
       "</table>\n",
       "</div>"
      ],
      "text/plain": [
       "   Incomplete Leaders  Square Team-Players\n",
       "0                -0.9                 0.11\n",
       "1                 0.8                 0.83\n",
       "2                 0.3                -1.08"
      ]
     },
     "execution_count": 47,
     "metadata": {},
     "output_type": "execute_result"
    }
   ],
   "source": [
    "# storing cluster centers\n",
    "hult_centroids_pca = hult_k_pca.cluster_centers_\n",
    "\n",
    "\n",
    "# converting cluster centers into a DataFrame\n",
    "hult_centroids_pca_df = pd.DataFrame(hult_centroids_pca)\n",
    "\n",
    "\n",
    "# renaming principal components\n",
    "hult_centroids_pca_df.columns = ['Incomplete Leaders', \n",
    "                                 'Square Team-Players'] \n",
    "\n",
    "\n",
    "# checking results (clusters = rows, pc = columns)\n",
    "hult_centroids_pca_df.round(2)"
   ]
  },
  {
   "cell_type": "code",
   "execution_count": 48,
   "metadata": {
    "ExecuteTime": {
     "end_time": "2021-02-23T04:44:34.567241Z",
     "start_time": "2021-02-23T04:44:34.547208Z"
    }
   },
   "outputs": [],
   "source": [
    "hult_clst_pca_df = pd.concat([hult_kmeans_pca,\n",
    "                         X_pca_df_hult],\n",
    "                         axis = 1)\n",
    "\n",
    "# concatenating demographic information with pca-clusters\n",
    "hult_final_pca_clust_df = pd.concat([survey.loc[ : , ['What laptop do you currently have?',\n",
    "                                                      'What laptop would you buy in next assuming if all laptops cost the same?',\n",
    "                                                      'thinking_rating',\n",
    "                                                      'communicating_rating',\n",
    "                                                      'team_building_rating'\n",
    "                                                      ]],\n",
    "                                hult_clst_pca_df],\n",
    "                                axis = 1)\n",
    "hult_final_pca_clust_df = hult_final_pca_clust_df.rename(columns = \n",
    "                                                    {0:\"Incomplete Leaders\",\n",
    "                                                     1:'Square Team-Players'})\n",
    "\n",
    "# Removing chromebooks due to lack of observations\n",
    "hult_final_pca_clust_df = hult_final_pca_clust_df[hult_final_pca_clust_df['What laptop would you buy in next assuming if all laptops cost the same?'] != \"Chromebook\"]"
   ]
  },
  {
   "cell_type": "markdown",
   "metadata": {},
   "source": [
    "## <font color='steelblue'>Hult DNA Boxplot Visualisations</font> "
   ]
  },
  {
   "cell_type": "code",
   "execution_count": 49,
   "metadata": {
    "ExecuteTime": {
     "end_time": "2021-02-23T04:44:34.932566Z",
     "start_time": "2021-02-23T04:44:34.571234Z"
    }
   },
   "outputs": [
    {
     "data": {
      "image/png": "[encoded data removed]",
      "text/plain": [
       "<Figure size 864x576 with 1 Axes>"
      ]
     },
     "metadata": {
      "needs_background": "light"
     },
     "output_type": "display_data"
    }
   ],
   "source": [
    "########################\n",
    "# Current Laptop Incomplete Leaders\n",
    "########################\n",
    "\n",
    "\n",
    "fig, ax = plt.subplots(figsize = (12, 8))\n",
    "sns.boxplot(x = 'What laptop do you currently have?',\n",
    "            y = 'Incomplete Leaders',\n",
    "            hue = 'Cluster',\n",
    "            data = hult_final_pca_clust_df)\n",
    "\n",
    "\n",
    "# formatting and displaying the plot\n",
    "plt.tight_layout()\n",
    "plt.show()"
   ]
  },
  {
   "cell_type": "markdown",
   "metadata": {},
   "source": [
    "Students in Cluster 0 are good leaders in terms of Hult DNA. There is some separation in people from this cluster. This reflects that the people who have a tendency to be worse leaders tend to have Macbooks. Windows users and their lower 75 percentile spread is also touching the low standard deviations of -3.\n",
    "\n",
    "It is a potent assumption that these people are more organized, self-aware and demonstrate strong leadership skills; assuming that these people are goal-oriented and strive for excellence, their choice in current laptop is therefore well researched and measured. Price might be a factor here. But observing the boxplot below, and analyzing their future purchases given that price isn't a factor, they still have a small tendency towards Windows laptops. It seems Macbooks lack the features required to sway these people."
   ]
  },
  {
   "cell_type": "code",
   "execution_count": 50,
   "metadata": {
    "ExecuteTime": {
     "end_time": "2021-02-23T04:44:35.416281Z",
     "start_time": "2021-02-23T04:44:34.934613Z"
    }
   },
   "outputs": [
    {
     "data": {
      "image/png": "[encoded data removed]",
      "text/plain": [
       "<Figure size 864x576 with 1 Axes>"
      ]
     },
     "metadata": {
      "needs_background": "light"
     },
     "output_type": "display_data"
    }
   ],
   "source": [
    "########################\n",
    "# Future Laptop Incomplete Leaders\n",
    "########################\n",
    "\n",
    "\n",
    "fig, ax = plt.subplots(figsize = (12, 8))\n",
    "sns.boxplot(x = 'What laptop would you buy in next assuming if all laptops cost the same?',\n",
    "            y = 'Incomplete Leaders',\n",
    "            hue = 'Cluster',\n",
    "            data = hult_final_pca_clust_df)\n",
    "\n",
    "\n",
    "# formatting and displaying the plot\n",
    "plt.tight_layout()\n",
    "plt.show()"
   ]
  },
  {
   "cell_type": "markdown",
   "metadata": {},
   "source": [
    "# <font color='navy'>Insights and Conclusion</font>"
   ]
  },
  {
   "cell_type": "markdown",
   "metadata": {},
   "source": [
    "Coming to the end of our analysis, we have put together some key insights for Apple based on a combination of findings from our analysis and external research. \n",
    "\n",
    "\n",
    "\n",
    "\n",
    "## **Insight One**\n",
    "To target **Vulnerable Narcissists**', Apple needs to launch a gaming laptop with a higher processor and CPU that is also cost-friendly. If the costs of doing this are not feasible, an alternative is \"gaming on the cloud.\" Here, Apple needs to provide remote subscription-based servers that would allow users to play video games from their computers using only a controller and an internet connection. The processing power and speed would fall not to the user's MacBook, but to Apple remotely.\n",
    "\n",
    "\n",
    "## **Insight Two**\n",
    "Given that some people in the **Attentive Wallflower** group are likely to purchase a Macbook as their next laptop, there is a good opportunity to market to them. First, Apple needs to hold a focus group for Windows users who identify as introverts (as they would fall into this category). The purpose of this focus group would be to reveal what would make them switch to a MacBook. Finally, introverts tend to prefer reading to talking, and respond well to data, so another way to attract them to ensure that in-store and online items are labeled clearly and sufficiently with extra details. (Schlesinger, 2020). \n",
    "\n",
    "## **Insight Three**\n",
    "Since **Unreliable Extroverts** are creative, kind and jolly individuals plagued by irresponsible traits such as disorganization, they are already inside the Apple market share. Apple should double down on this segment of customers to capitalize on the ones on the fence about a laptop decision. The best way is to advertise the Macbooks amplifying the ability of the Apple products’ interconnectedness to alleviate their organization issues.\n",
    "\n",
    "\n",
    "## **Insight Four**\n",
    "Our visualization in Section 3 shows that more than twice as many millennials own Windows than MacBooks. However, in terms of the laptops that this group will purchase in the future, there is a smaller gap between those who say they will purchase Windows over a MacBook. Research shows that Facebook is a millennial's favorite website, so Apple should invest in targeted Facebook promotions to market to this demographic (Marketing to, 2021).\n",
    "\n",
    "\n",
    "\n",
    "\n",
    "Overall, we have seen interesting trends between personality traits and laptop ownership. For Vulnerable Narcissists and Attentive Wallflowers, Apple should take the above steps to penetrate Windows market share and break the hold they have on these personality types. Apple should double down on Unreliable Extroverts with customer-retention strategies since they are already Mac lovers.\n"
   ]
  },
  {
   "cell_type": "markdown",
   "metadata": {},
   "source": [
    "# <font color='navy'>Citations</font>"
   ]
  },
  {
   "cell_type": "markdown",
   "metadata": {},
   "source": [
    "Awesomers.com. 2021. Marketing to Millennials - Top 9 Things to Know to Sell. [online] Available at: <https://www.awesomers.com/marketing-to-millennials> [Accessed 22 February 2021].\n",
    "\n",
    "\n",
    "Cashman, J., 2021. 10 Best Activities To Do With Introverts. [online] Lifehack. Available at: <https://www.lifehack.org/articles/communication/10-best-activities-with-introverts.html> [Accessed 22 February 2021].\n",
    "\n",
    "\n",
    "Cherry, K., 2020. What Are the Big 5 Personality Traits?. [online] Verywell Mind. Available at: <https://www.verywellmind.com/the-big-five-personality-dimensions-2795422#agreeableness> [Accessed 19 February 2021].\n",
    "\n",
    "\n",
    "Lim, A., 2021. The Big Five Personality Traits. [online] Simplypsychology.org. Available at: <https://www.simplypsychology.org/big-five-personality.html> [Accessed 20 February 2021].\n",
    "\n",
    "\n",
    "Look, M., 2021. What Are the Big 5? | Payoff Life. [online] Payoff Life. Available at: <https://www.payoff.com/life/science/what-are-the-big-5/> [Accessed 21 February 2021].\n",
    "\n",
    "\n",
    "Schlesinger, T., 2020. How to sell to an introvert. [online] Medium. Available at: <https://tessaschlesinger.medium.com/how-to-sell-to-an-introvert-acebb2c69058> [Accessed 22 February 2021].\n",
    "\n",
    "\n",
    "Shaheem, S., 2019. Why every leader needs a growth mindset. [Blog] Hult Blogs, Available at: <https://www.hult.edu/blog/why-every-leader-needs-growth-mindset/> [Accessed 19 February 2021].\n",
    "\n",
    "\n",
    "Sorrentino, J., 2021. Why 99.9% Of Graphic Designers Choose Mac VS PC. [online] Wellfedpodcast.com. Available at: <https://www.wellfedpodcast.com/article/why-graphic-designers-use-mac> [Accessed 22 February 2021].\n",
    "\n",
    "\n",
    "Trimidal, C., 2021. Mac vs. PC: Which Is Better for Gaming?. [online] Tech Loot. Available at: <https://techloot.co.uk/mac-vs-pc-gaming/> [Accessed 22 February 2021].\n",
    "\n",
    "\n",
    "Zajenkowski, M. and Szymaniak, K., 2019. Narcissism between facets and domains. The relationships between two types of narcissism and aspects of the Big Five. Current Psychology, [online] Available at: <https://link.springer.com/article/10.1007/s12144-019-0147-1> [Accessed 20 February 2021].\n",
    "\n",
    "\n"
   ]
  }
 ],
 "metadata": {
  "kernelspec": {
   "display_name": "Python 3",
   "language": "python",
   "name": "python3"
  },
  "language_info": {
   "codemirror_mode": {
    "name": "ipython",
    "version": 3
   },
   "file_extension": ".py",
   "mimetype": "text/x-python",
   "name": "python",
   "nbconvert_exporter": "python",
   "pygments_lexer": "ipython3",
   "version": "3.8.5"
  },
  "toc": {
   "base_numbering": 1,
   "nav_menu": {},
   "number_sections": true,
   "sideBar": true,
   "skip_h1_title": false,
   "title_cell": "Table of Contents",
   "title_sidebar": "Contents",
   "toc_cell": false,
   "toc_position": {
    "height": "609px",
    "left": "82px",
    "top": "110px",
    "width": "242px"
   },
   "toc_section_display": true,
   "toc_window_display": true
  },
  "varInspector": {
   "cols": {
    "lenName": 16,
    "lenType": 16,
    "lenVar": 40
   },
   "kernels_config": {
    "python": {
     "delete_cmd_postfix": "",
     "delete_cmd_prefix": "del ",
     "library": "var_list.py",
     "varRefreshCmd": "print(var_dic_list())"
    },
    "r": {
     "delete_cmd_postfix": ") ",
     "delete_cmd_prefix": "rm(",
     "library": "var_list.r",
     "varRefreshCmd": "cat(var_dic_list()) "
    }
   },
   "types_to_exclude": [
    "module",
    "function",
    "builtin_function_or_method",
    "instance",
    "_Feature"
   ],
   "window_display": false
  }
 },
 "nbformat": 4,
 "nbformat_minor": 4
}
